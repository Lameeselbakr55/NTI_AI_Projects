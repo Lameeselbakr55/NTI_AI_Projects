{
  "cells": [
    {
      "cell_type": "markdown",
      "metadata": {
        "id": "view-in-github",
        "colab_type": "text"
      },
      "source": [
        "<a href=\"https://colab.research.google.com/github/Lameeselbakr55/NTI_AI_Projects/blob/master/KNN_for_IRIS_Dataset_(Multiple_Ks).ipynb\" target=\"_parent\"><img src=\"https://colab.research.google.com/assets/colab-badge.svg\" alt=\"Open In Colab\"/></a>"
      ]
    },
    {
      "cell_type": "markdown",
      "source": [
        "#KNN for Iris Dataset (Multiple Ks)"
      ],
      "metadata": {
        "id": "lJqemyfdhoty"
      }
    },
    {
      "cell_type": "markdown",
      "source": [
        "##Loading and Preparing Data"
      ],
      "metadata": {
        "id": "6DkiekW1htXY"
      }
    },
    {
      "cell_type": "code",
      "execution_count": null,
      "metadata": {
        "id": "9u2FzDrU8fRT"
      },
      "outputs": [],
      "source": [
        "from sklearn.neighbors import KNeighborsClassifier\n",
        "from sklearn.model_selection import train_test_split\n",
        "from sklearn.datasets import load_iris\n",
        "from sklearn.metrics import accuracy_score\n",
        "iris = load_iris()\n",
        " \n",
        "# Create feature and target arrays\n",
        "X = iris.data\n",
        "y = iris.target\n",
        " \n"
      ]
    },
    {
      "cell_type": "code",
      "execution_count": null,
      "metadata": {
        "id": "RMYuMymjWl5x"
      },
      "outputs": [],
      "source": [
        "# Split into training and test set\n",
        "X_train, X_test, y_train, y_test = train_test_split(X, y, test_size = 0.2, random_state=42)"
      ]
    },
    {
      "cell_type": "markdown",
      "source": [
        "##Model Fitting\n",
        "Trying different number of neighbours"
      ],
      "metadata": {
        "id": "4Z7jnsrWh1dw"
      }
    },
    {
      "cell_type": "code",
      "execution_count": null,
      "metadata": {
        "colab": {
          "base_uri": "https://localhost:8080/"
        },
        "id": "hOdY-o7H9Bff",
        "outputId": "339da2ff-0c55-44ae-e83f-e50b51cddd14"
      },
      "outputs": [
        {
          "name": "stdout",
          "output_type": "stream",
          "text": [
            "10 100.0\n",
            "15 100.0\n",
            "20 100.0\n",
            "25 100.0\n",
            "30 100.0\n",
            "35 100.0\n",
            "40 96.66666666666667\n",
            "45 100.0\n",
            "50 96.66666666666667\n",
            "55 96.66666666666667\n",
            "60 96.66666666666667\n",
            "65 96.66666666666667\n",
            "70 96.66666666666667\n",
            "75 93.33333333333333\n",
            "80 63.33333333333333\n",
            "85 63.33333333333333\n",
            "90 53.333333333333336\n",
            "95 30.0\n",
            "100 30.0\n",
            "105 30.0\n",
            "110 30.0\n",
            "115 30.0\n"
          ]
        }
      ],
      "source": [
        "for j in range(10,120,5):\n",
        "    knn = KNeighborsClassifier(n_neighbors=j)\n",
        " \n",
        "    knn.fit(X_train, y_train)\n",
        "    # Predict on dataset which model has not seen before\n",
        "    y_pred=knn.predict(X_test)\n",
        "    print(j,accuracy_score(y_test,y_pred)*100)"
      ]
    }
  ],
  "metadata": {
    "colab": {
      "collapsed_sections": [],
      "name": "KNN for IRIS Dataset (Multiple Ks).ipynb",
      "provenance": [],
      "include_colab_link": true
    },
    "kernelspec": {
      "display_name": "Python 3 (ipykernel)",
      "language": "python",
      "name": "python3"
    },
    "language_info": {
      "codemirror_mode": {
        "name": "ipython",
        "version": 3
      },
      "file_extension": ".py",
      "mimetype": "text/x-python",
      "name": "python",
      "nbconvert_exporter": "python",
      "pygments_lexer": "ipython3",
      "version": "3.9.12"
    }
  },
  "nbformat": 4,
  "nbformat_minor": 0
}