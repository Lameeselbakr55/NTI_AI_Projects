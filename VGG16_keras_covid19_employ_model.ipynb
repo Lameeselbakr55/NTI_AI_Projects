{
  "nbformat": 4,
  "nbformat_minor": 0,
  "metadata": {
    "colab": {
      "name": "VGG16_keras_covid19_employ_model.ipynb",
      "provenance": [],
      "include_colab_link": true
    },
    "kernelspec": {
      "name": "python3",
      "display_name": "Python 3"
    },
    "language_info": {
      "name": "python"
    },
    "accelerator": "GPU"
  },
  "cells": [
    {
      "cell_type": "markdown",
      "metadata": {
        "id": "view-in-github",
        "colab_type": "text"
      },
      "source": [
        "<a href=\"https://colab.research.google.com/github/Lameeselbakr55/NTI_AI_Projects/blob/master/VGG16_keras_covid19_employ_model.ipynb\" target=\"_parent\"><img src=\"https://colab.research.google.com/assets/colab-badge.svg\" alt=\"Open In Colab\"/></a>"
      ]
    },
    {
      "cell_type": "markdown",
      "source": [
        "#COVID19 check based on VGG16"
      ],
      "metadata": {
        "id": "zO6RGbAs1kKR"
      }
    },
    {
      "cell_type": "markdown",
      "source": [
        "##Load Data and Preprocessing"
      ],
      "metadata": {
        "id": "85PmxQEY195E"
      }
    },
    {
      "cell_type": "code",
      "source": [
        "from google.colab import drive\n",
        "drive.mount('/content/drive')"
      ],
      "metadata": {
        "id": "4ifqGsv_1ZNS"
      },
      "execution_count": null,
      "outputs": []
    },
    {
      "cell_type": "code",
      "source": [
        "import keras \n",
        "from keras.models import * \n",
        "from keras.layers import * \n",
        "from keras.preprocessing import image\n",
        "import PIL"
      ],
      "metadata": {
        "id": "-ltR4vv6xqCH"
      },
      "execution_count": null,
      "outputs": []
    },
    {
      "cell_type": "code",
      "source": [
        "from keras.preprocessing.image import ImageDataGenerator\n",
        "\n",
        "train_datagen = ImageDataGenerator(rescale=1./255,)\n",
        "test_datagen = ImageDataGenerator(rescale=1./255)"
      ],
      "metadata": {
        "id": "DA7kt1jsxr1P"
      },
      "execution_count": null,
      "outputs": []
    },
    {
      "cell_type": "code",
      "source": [
        "train_set = train_datagen.flow_from_directory('/content/drive/MyDrive/CovidDataset/Train/',\n",
        "      target_size=(224, 224),class_mode='categorical',batch_size=32,shuffle=False)"
      ],
      "metadata": {
        "colab": {
          "base_uri": "https://localhost:8080/"
        },
        "id": "kT2YIcNwykhx",
        "outputId": "d20aed69-86d1-4e0a-8565-cb7d66c48140"
      },
      "execution_count": null,
      "outputs": [
        {
          "output_type": "stream",
          "name": "stdout",
          "text": [
            "Found 224 images belonging to 2 classes.\n"
          ]
        }
      ]
    },
    {
      "cell_type": "code",
      "source": [
        "test_set = test_datagen.flow_from_directory('/content/drive/MyDrive/CovidDataset/Val/',\n",
        "        target_size=(224, 224),class_mode='categorical',batch_size=32,shuffle=False)"
      ],
      "metadata": {
        "colab": {
          "base_uri": "https://localhost:8080/"
        },
        "id": "hry8seotzaCO",
        "outputId": "5b0b1357-1212-4c9f-bfcf-08d35b00c608"
      },
      "execution_count": null,
      "outputs": [
        {
          "output_type": "stream",
          "name": "stdout",
          "text": [
            "Found 60 images belonging to 2 classes.\n"
          ]
        }
      ]
    },
    {
      "cell_type": "markdown",
      "source": [
        "## Model Fitting"
      ],
      "metadata": {
        "id": "nxz-9Lpy2Zui"
      }
    },
    {
      "cell_type": "code",
      "source": [
        "from keras.models import load_model\n",
        "\n",
        "model1=load_model('/content/drive/MyDrive/SavedModels/vgg16_keras_Covid19.h5')\n",
        "\n",
        "model1.evaluate(test_set)"
      ],
      "metadata": {
        "colab": {
          "base_uri": "https://localhost:8080/"
        },
        "id": "cxq5CBxK1AAG",
        "outputId": "be3af265-f692-4fbc-c45f-25d05a010795"
      },
      "execution_count": null,
      "outputs": [
        {
          "output_type": "stream",
          "name": "stdout",
          "text": [
            "2/2 [==============================] - 17s 2s/step - loss: 0.6905 - accuracy: 0.9167\n"
          ]
        },
        {
          "output_type": "execute_result",
          "data": {
            "text/plain": [
              "[0.6904916167259216, 0.9166666865348816]"
            ]
          },
          "metadata": {},
          "execution_count": 7
        }
      ]
    },
    {
      "cell_type": "code",
      "source": [
        "import numpy as np\n",
        "y_pred=model1.predict(test_set)\n",
        "y_pred[0:10]"
      ],
      "metadata": {
        "colab": {
          "base_uri": "https://localhost:8080/"
        },
        "id": "s0rFIxsKCqdm",
        "outputId": "3b58c291-4da3-4c7a-b309-80196c59f214"
      },
      "execution_count": null,
      "outputs": [
        {
          "output_type": "execute_result",
          "data": {
            "text/plain": [
              "array([[0.5019376 , 0.49806237],\n",
              "       [0.50209534, 0.49790472],\n",
              "       [0.50194764, 0.49805233],\n",
              "       [0.49962574, 0.50037426],\n",
              "       [0.50104624, 0.49895376],\n",
              "       [0.50273484, 0.4972652 ],\n",
              "       [0.50113434, 0.4988657 ],\n",
              "       [0.50053525, 0.4994648 ],\n",
              "       [0.5011082 , 0.4988918 ],\n",
              "       [0.5002718 , 0.4997282 ]], dtype=float32)"
            ]
          },
          "metadata": {},
          "execution_count": 10
        }
      ]
    },
    {
      "cell_type": "code",
      "source": [
        "print(y_pred[0])\n",
        "y_pred1=np.argmax(y_pred,axis=1)\n",
        "print(y_pred1[0])"
      ],
      "metadata": {
        "colab": {
          "base_uri": "https://localhost:8080/"
        },
        "id": "n4rCckNpYNiO",
        "outputId": "2350bdf5-460c-45a4-ae89-3523746ab4b9"
      },
      "execution_count": null,
      "outputs": [
        {
          "output_type": "stream",
          "name": "stdout",
          "text": [
            "[0.5019376  0.49806237]\n",
            "0\n"
          ]
        }
      ]
    },
    {
      "cell_type": "code",
      "source": [
        "from sklearn.metrics import accuracy_score,  confusion_matrix\n",
        "print(confusion_matrix(test_set.labels,y_pred1))\n",
        "\n",
        "accuracy_score(test_set.labels,y_pred1)*100"
      ],
      "metadata": {
        "colab": {
          "base_uri": "https://localhost:8080/"
        },
        "id": "r6RnmFzy4ume",
        "outputId": "b65fe764-e409-4fb9-dcc8-89dd2eccccf2"
      },
      "execution_count": null,
      "outputs": [
        {
          "output_type": "stream",
          "name": "stdout",
          "text": [
            "[[26  4]\n",
            " [ 1 29]]\n"
          ]
        },
        {
          "output_type": "execute_result",
          "data": {
            "text/plain": [
              "91.66666666666666"
            ]
          },
          "metadata": {},
          "execution_count": 12
        }
      ]
    },
    {
      "cell_type": "code",
      "source": [
        "import numpy as np\n",
        "from keras.preprocessing import image\n",
        "img1 =image.load_img('/content/drive/MyDrive/CovidDataset/Val/Covid/16654_1_1.png',target_size =(224,224))\n",
        "img1\n",
        "\n"
      ],
      "metadata": {
        "colab": {
          "base_uri": "https://localhost:8080/",
          "height": 241
        },
        "id": "9M0Tqlac4glP",
        "outputId": "1ee6d906-95a1-452b-b89f-8e121c55995b"
      },
      "execution_count": null,
      "outputs": [
        {
          "output_type": "execute_result",
          "data": {
            "text/plain": [
              "<PIL.Image.Image image mode=RGB size=224x224 at 0x7F049158D1D0>"
            ],
            "image/png": "[encoded data removed]"
          },
          "metadata": {},
          "execution_count": 13
        }
      ]
    },
    {
      "cell_type": "code",
      "source": [
        "img =image.img_to_array(img1)\n",
        "img.shape"
      ],
      "metadata": {
        "colab": {
          "base_uri": "https://localhost:8080/"
        },
        "id": "QWdJNf_3Ytk1",
        "outputId": "6d4686ba-5308-4e65-c536-e5910829cf07"
      },
      "execution_count": null,
      "outputs": [
        {
          "output_type": "execute_result",
          "data": {
            "text/plain": [
              "(224, 224, 3)"
            ]
          },
          "metadata": {},
          "execution_count": 14
        }
      ]
    },
    {
      "cell_type": "code",
      "source": [
        "img = img/255\n",
        "img =np.expand_dims(img, axis =0)\n",
        "img.shape"
      ],
      "metadata": {
        "colab": {
          "base_uri": "https://localhost:8080/"
        },
        "id": "D-FS-GMWY4LV",
        "outputId": "107c84f3-2af4-43fc-873b-4cae7ccf1392"
      },
      "execution_count": null,
      "outputs": [
        {
          "output_type": "execute_result",
          "data": {
            "text/plain": [
              "(1, 224, 224, 3)"
            ]
          },
          "metadata": {},
          "execution_count": 15
        }
      ]
    },
    {
      "cell_type": "code",
      "source": [
        "y_pred_img = model1.predict(img)\n",
        "print(y_pred_img)\n"
      ],
      "metadata": {
        "colab": {
          "base_uri": "https://localhost:8080/"
        },
        "id": "dmi7ExkGY-EY",
        "outputId": "2cf58e65-1e90-4b78-dcd8-b73d240013aa"
      },
      "execution_count": null,
      "outputs": [
        {
          "output_type": "stream",
          "name": "stdout",
          "text": [
            "[[0.5019376  0.49806237]]\n"
          ]
        }
      ]
    },
    {
      "cell_type": "code",
      "source": [
        "print(y_pred_img[0][0])\n",
        "print(y_pred_img[0][1])"
      ],
      "metadata": {
        "colab": {
          "base_uri": "https://localhost:8080/"
        },
        "id": "yCWfcpwxZB4B",
        "outputId": "67bc7738-da35-4202-c1d7-0d91d89362e8"
      },
      "execution_count": null,
      "outputs": [
        {
          "output_type": "stream",
          "name": "stdout",
          "text": [
            "0.5019376\n",
            "0.49806237\n"
          ]
        }
      ]
    },
    {
      "cell_type": "code",
      "source": [
        "if y_pred_img[0][0] >= 0.5:\n",
        "    prediction = 'covid'\n",
        "else:\n",
        "    prediction = 'normal'\n",
        "print(prediction)"
      ],
      "metadata": {
        "colab": {
          "base_uri": "https://localhost:8080/"
        },
        "id": "9DPcfdMoZXeu",
        "outputId": "7d8f74ad-f89b-4e2e-9338-ac8a8636cb4c"
      },
      "execution_count": null,
      "outputs": [
        {
          "output_type": "stream",
          "name": "stdout",
          "text": [
            "covid\n"
          ]
        }
      ]
    }
  ]
}