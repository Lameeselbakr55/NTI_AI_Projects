{
  "nbformat": 4,
  "nbformat_minor": 0,
  "metadata": {
    "colab": {
      "name": "Cifar10_CNN_Test_V2",
      "provenance": [],
      "collapsed_sections": [],
      "include_colab_link": true
    },
    "kernelspec": {
      "name": "python3",
      "display_name": "Python 3"
    },
    "language_info": {
      "name": "python"
    },
    "accelerator": "GPU"
  },
  "cells": [
    {
      "cell_type": "markdown",
      "metadata": {
        "id": "view-in-github",
        "colab_type": "text"
      },
      "source": [
        "<a href=\"https://colab.research.google.com/github/amrtariq/NTI_AI_Projects/blob/main/Cifar10_CNN_Test_V2.ipynb\" target=\"_parent\"><img src=\"https://colab.research.google.com/assets/colab-badge.svg\" alt=\"Open In Colab\"/></a>"
      ]
    },
    {
      "cell_type": "markdown",
      "source": [
        "#Cifar10_CNN_Test_V2\n",
        "For better Accuracy"
      ],
      "metadata": {
        "id": "ZBgOlcU03pEp"
      }
    },
    {
      "cell_type": "markdown",
      "source": [
        "##Data Loading and Preparation"
      ],
      "metadata": {
        "id": "Jhksx1Pb3u8F"
      }
    },
    {
      "cell_type": "code",
      "metadata": {
        "id": "HD2Rk-ZDSMVx"
      },
      "source": [
        "from tensorflow import keras\n",
        "from keras.layers import Input, Dense, Dropout,Conv2D, MaxPooling2D, Flatten\n",
        "from tensorflow.keras import  datasets\n",
        "from matplotlib import pyplot as plt"
      ],
      "execution_count": null,
      "outputs": []
    },
    {
      "cell_type": "code",
      "source": [
        "(x_train, y_train), (x_test, y_test) = datasets.cifar10.load_data()"
      ],
      "metadata": {
        "id": "6V3cDL4G4WMF",
        "colab": {
          "base_uri": "https://localhost:8080/"
        },
        "outputId": "78e70fbc-ff8c-4418-af8b-8dc055e5962e"
      },
      "execution_count": null,
      "outputs": [
        {
          "output_type": "stream",
          "name": "stdout",
          "text": [
            "Downloading data from https://www.cs.toronto.edu/~kriz/cifar-10-python.tar.gz\n",
            "170500096/170498071 [==============================] - 2s 0us/step\n",
            "170508288/170498071 [==============================] - 2s 0us/step\n"
          ]
        }
      ]
    },
    {
      "cell_type": "code",
      "source": [
        "x_train.shape"
      ],
      "metadata": {
        "colab": {
          "base_uri": "https://localhost:8080/"
        },
        "id": "55_pRpY4yeVd",
        "outputId": "06d8dd05-6993-4d74-d59b-f3c6ed09a522"
      },
      "execution_count": null,
      "outputs": [
        {
          "output_type": "execute_result",
          "data": {
            "text/plain": [
              "(50000, 32, 32, 3)"
            ]
          },
          "metadata": {},
          "execution_count": 3
        }
      ]
    },
    {
      "cell_type": "code",
      "source": [
        "x_test.shape"
      ],
      "metadata": {
        "colab": {
          "base_uri": "https://localhost:8080/"
        },
        "id": "lcHxNPByyt2B",
        "outputId": "38be3941-030f-48bd-8b48-3a8e68af328b"
      },
      "execution_count": null,
      "outputs": [
        {
          "output_type": "execute_result",
          "data": {
            "text/plain": [
              "(10000, 32, 32, 3)"
            ]
          },
          "metadata": {},
          "execution_count": 4
        }
      ]
    },
    {
      "cell_type": "code",
      "source": [
        "#Convert the labels into one-hot codes.\n",
        "num_classes = 10\n",
        "y_train = keras.utils.to_categorical(y_train, num_classes)\n",
        "y_test = keras.utils.to_categorical(y_test, num_classes)\n",
        "print(y_train[0])"
      ],
      "metadata": {
        "colab": {
          "base_uri": "https://localhost:8080/"
        },
        "id": "SYay648d3REP",
        "outputId": "3425fb84-d73a-438b-f414-097f0e1f049a"
      },
      "execution_count": null,
      "outputs": [
        {
          "output_type": "stream",
          "name": "stdout",
          "text": [
            "[0. 0. 0. 0. 0. 0. 1. 0. 0. 0.]\n"
          ]
        }
      ]
    },
    {
      "cell_type": "code",
      "metadata": {
        "id": "vt9t37WrhWy8"
      },
      "source": [
        "#Normalize image pixel values.\n",
        "x_train = x_train/255\n",
        "x_test = x_test/255"
      ],
      "execution_count": null,
      "outputs": []
    },
    {
      "cell_type": "markdown",
      "source": [
        "##Model Fitting"
      ],
      "metadata": {
        "id": "4mnaaORH3ziB"
      }
    },
    {
      "cell_type": "code",
      "metadata": {
        "colab": {
          "base_uri": "https://localhost:8080/"
        },
        "id": "ORom-RTJZ-kp",
        "outputId": "04f9d6d6-7e95-4ffc-ae15-264787a98729"
      },
      "source": [
        "model=keras.Sequential() #Create a network sequence.\n",
        "model.add(Input(shape=(32,32,3)))\n",
        "model.add(Conv2D(32, (3, 3), activation='relu', input_shape=(32, 32, 3)))\n",
        "model.add(MaxPooling2D((2, 2)))\n",
        "model.add(Conv2D(64, (3, 3), activation='relu'))\n",
        "model.add(MaxPooling2D((2, 2)))\n",
        "model.add(Conv2D(64, (3, 3), activation='relu'))\n",
        "model.add(MaxPooling2D((2, 2)))\n",
        "\n",
        "model.add(Flatten())\n",
        "model.add(Dense(64,activation = 'relu'))\n",
        "model.add(Dense(10,activation = 'softmax'))\n",
        "\n",
        "model.summary()"
      ],
      "execution_count": null,
      "outputs": [
        {
          "output_type": "stream",
          "name": "stdout",
          "text": [
            "Model: \"sequential\"\n",
            "_________________________________________________________________\n",
            " Layer (type)                Output Shape              Param #   \n",
            "=================================================================\n",
            " conv2d (Conv2D)             (None, 30, 30, 32)        896       \n",
            "                                                                 \n",
            " max_pooling2d (MaxPooling2D  (None, 15, 15, 32)       0         \n",
            " )                                                               \n",
            "                                                                 \n",
            " conv2d_1 (Conv2D)           (None, 13, 13, 64)        18496     \n",
            "                                                                 \n",
            " max_pooling2d_1 (MaxPooling  (None, 6, 6, 64)         0         \n",
            " 2D)                                                             \n",
            "                                                                 \n",
            " conv2d_2 (Conv2D)           (None, 4, 4, 64)          36928     \n",
            "                                                                 \n",
            " max_pooling2d_2 (MaxPooling  (None, 2, 2, 64)         0         \n",
            " 2D)                                                             \n",
            "                                                                 \n",
            " flatten (Flatten)           (None, 256)               0         \n",
            "                                                                 \n",
            " dense (Dense)               (None, 64)                16448     \n",
            "                                                                 \n",
            " dense_1 (Dense)             (None, 10)                650       \n",
            "                                                                 \n",
            "=================================================================\n",
            "Total params: 73,418\n",
            "Trainable params: 73,418\n",
            "Non-trainable params: 0\n",
            "_________________________________________________________________\n"
          ]
        }
      ]
    },
    {
      "cell_type": "code",
      "metadata": {
        "id": "skMSXinVhSPV",
        "colab": {
          "base_uri": "https://localhost:8080/"
        },
        "outputId": "dc20f816-c32f-417b-b4c4-602ec8a71901"
      },
      "source": [
        "model.compile(optimizer='Adam',loss=\"categorical_crossentropy\",metrics=['accuracy']) \n",
        "#model.compile(optimizer=keras.optimizers.Adam(),loss=\"categorical_crossentropy\",metrics=['accuracy']) \n",
        "results= model.fit(x_train,y_train,epochs=20,batch_size=128,shuffle='true',validation_data=(x_test, y_test))\n",
        "\n"
      ],
      "execution_count": null,
      "outputs": [
        {
          "output_type": "stream",
          "name": "stdout",
          "text": [
            "Epoch 1/20\n",
            "391/391 [==============================] - 62s 154ms/step - loss: 1.7482 - accuracy: 0.3534 - val_loss: 1.5219 - val_accuracy: 0.4473\n",
            "Epoch 2/20\n",
            "391/391 [==============================] - 59s 150ms/step - loss: 1.4327 - accuracy: 0.4796 - val_loss: 1.3499 - val_accuracy: 0.5134\n",
            "Epoch 3/20\n",
            "391/391 [==============================] - 57s 145ms/step - loss: 1.2975 - accuracy: 0.5344 - val_loss: 1.2417 - val_accuracy: 0.5614\n",
            "Epoch 4/20\n",
            "391/391 [==============================] - 57s 145ms/step - loss: 1.1931 - accuracy: 0.5777 - val_loss: 1.1436 - val_accuracy: 0.6007\n",
            "Epoch 5/20\n",
            "391/391 [==============================] - 57s 145ms/step - loss: 1.1215 - accuracy: 0.6040 - val_loss: 1.0908 - val_accuracy: 0.6148\n",
            "Epoch 6/20\n",
            "391/391 [==============================] - 56s 144ms/step - loss: 1.0538 - accuracy: 0.6299 - val_loss: 1.0507 - val_accuracy: 0.6280\n",
            "Epoch 7/20\n",
            "391/391 [==============================] - 56s 144ms/step - loss: 1.0053 - accuracy: 0.6484 - val_loss: 1.0289 - val_accuracy: 0.6336\n",
            "Epoch 8/20\n",
            "391/391 [==============================] - 56s 144ms/step - loss: 0.9586 - accuracy: 0.6659 - val_loss: 1.0139 - val_accuracy: 0.6449\n",
            "Epoch 9/20\n",
            "391/391 [==============================] - 57s 145ms/step - loss: 0.9237 - accuracy: 0.6756 - val_loss: 0.9765 - val_accuracy: 0.6611\n",
            "Epoch 10/20\n",
            "391/391 [==============================] - 56s 144ms/step - loss: 0.8979 - accuracy: 0.6862 - val_loss: 0.9871 - val_accuracy: 0.6539\n",
            "Epoch 11/20\n",
            "391/391 [==============================] - 56s 144ms/step - loss: 0.8551 - accuracy: 0.7008 - val_loss: 0.9606 - val_accuracy: 0.6638\n",
            "Epoch 12/20\n",
            "391/391 [==============================] - 57s 145ms/step - loss: 0.8317 - accuracy: 0.7091 - val_loss: 0.9472 - val_accuracy: 0.6694\n",
            "Epoch 13/20\n",
            "391/391 [==============================] - 56s 144ms/step - loss: 0.8019 - accuracy: 0.7205 - val_loss: 0.9677 - val_accuracy: 0.6686\n",
            "Epoch 14/20\n",
            "391/391 [==============================] - 56s 144ms/step - loss: 0.7817 - accuracy: 0.7275 - val_loss: 0.9185 - val_accuracy: 0.6837\n",
            "Epoch 15/20\n",
            "391/391 [==============================] - 56s 144ms/step - loss: 0.7589 - accuracy: 0.7350 - val_loss: 0.9110 - val_accuracy: 0.6880\n",
            "Epoch 16/20\n",
            "391/391 [==============================] - 57s 145ms/step - loss: 0.7375 - accuracy: 0.7428 - val_loss: 0.8809 - val_accuracy: 0.7002\n",
            "Epoch 17/20\n",
            "391/391 [==============================] - 56s 144ms/step - loss: 0.7117 - accuracy: 0.7504 - val_loss: 0.8861 - val_accuracy: 0.6969\n",
            "Epoch 18/20\n",
            "391/391 [==============================] - 56s 145ms/step - loss: 0.6948 - accuracy: 0.7567 - val_loss: 0.8729 - val_accuracy: 0.7059\n",
            "Epoch 19/20\n",
            "391/391 [==============================] - 59s 150ms/step - loss: 0.6776 - accuracy: 0.7635 - val_loss: 0.8791 - val_accuracy: 0.7038\n",
            "Epoch 20/20\n",
            "391/391 [==============================] - 57s 146ms/step - loss: 0.6591 - accuracy: 0.7703 - val_loss: 0.8957 - val_accuracy: 0.7022\n"
          ]
        }
      ]
    },
    {
      "cell_type": "markdown",
      "source": [
        "##Results"
      ],
      "metadata": {
        "id": "IUt0U2HD33sk"
      }
    },
    {
      "cell_type": "code",
      "metadata": {
        "id": "eQsuIhTzk3fE",
        "colab": {
          "base_uri": "https://localhost:8080/"
        },
        "outputId": "a069cce3-d364-4fff-bb27-787fe0f86250"
      },
      "source": [
        "score = model.evaluate(x_test, y_test)\n"
      ],
      "execution_count": null,
      "outputs": [
        {
          "output_type": "stream",
          "name": "stdout",
          "text": [
            "313/313 [==============================] - 4s 12ms/step - loss: 0.8957 - accuracy: 0.7022\n"
          ]
        }
      ]
    },
    {
      "cell_type": "code",
      "source": [
        "plt.plot(results.history['accuracy'], label='accuracy')\n",
        "plt.plot(results.history['val_accuracy'], label = 'val_accuracy')\n",
        "plt.xlabel('Epoch')\n",
        "plt.ylabel('Accuracy')\n",
        "#plt.ylim([0.5, 1])\n",
        "plt.legend(loc='lower right')\n",
        "\n",
        "test_loss, test_acc = model.evaluate(x_test,  y_test)"
      ],
      "metadata": {
        "colab": {
          "base_uri": "https://localhost:8080/",
          "height": 297
        },
        "id": "lrxn2f3Nr06H",
        "outputId": "ea947f99-4a13-40d5-e6c7-4c17faaf5e50"
      },
      "execution_count": null,
      "outputs": [
        {
          "output_type": "stream",
          "name": "stdout",
          "text": [
            "313/313 [==============================] - 4s 12ms/step - loss: 0.8957 - accuracy: 0.7022\n"
          ]
        },
        {
          "output_type": "display_data",
          "data": {
            "text/plain": [
              "<Figure size 432x288 with 1 Axes>"
            ],
            "image/png": "[encoded data removed]"
          },
          "metadata": {
            "needs_background": "light"
          }
        }
      ]
    },
    {
      "cell_type": "code",
      "metadata": {
        "id": "tK3DWgfVS_Un",
        "colab": {
          "base_uri": "https://localhost:8080/",
          "height": 313
        },
        "outputId": "438ac9fc-b67c-481b-c3a1-2077befa9237"
      },
      "source": [
        "plt.plot(results.history['loss'])\n",
        "plt.title('Training and Validation losses')\n",
        "plt.xlabel('epoch')\n",
        "plt.ylabel('Training and Validation losses')"
      ],
      "execution_count": null,
      "outputs": [
        {
          "output_type": "execute_result",
          "data": {
            "text/plain": [
              "Text(0, 0.5, 'Training and Validation losses')"
            ]
          },
          "metadata": {},
          "execution_count": 11
        },
        {
          "output_type": "display_data",
          "data": {
            "text/plain": [
              "<Figure size 432x288 with 1 Axes>"
            ],
            "image/png": "[encoded data removed]"
          },
          "metadata": {
            "needs_background": "light"
          }
        }
      ]
    }
  ]
}