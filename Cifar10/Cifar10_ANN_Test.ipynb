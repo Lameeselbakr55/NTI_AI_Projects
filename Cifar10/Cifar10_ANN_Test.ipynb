{
  "nbformat": 4,
  "nbformat_minor": 0,
  "metadata": {
    "colab": {
      "name": "Cifar10 ANN Test.ipynb",
      "provenance": [],
      "collapsed_sections": [],
      "include_colab_link": true
    },
    "kernelspec": {
      "name": "python3",
      "display_name": "Python 3"
    },
    "language_info": {
      "name": "python"
    },
    "accelerator": "GPU"
  },
  "cells": [
    {
      "cell_type": "markdown",
      "metadata": {
        "id": "view-in-github",
        "colab_type": "text"
      },
      "source": [
        "<a href=\"https://colab.research.google.com/github/amrtariq/NTI_AI_Projects/blob/main/Cifar10_ANN_Test.ipynb\" target=\"_parent\"><img src=\"https://colab.research.google.com/assets/colab-badge.svg\" alt=\"Open In Colab\"/></a>"
      ]
    },
    {
      "cell_type": "markdown",
      "source": [
        "#Testing ANN on Cifar10 Dataset"
      ],
      "metadata": {
        "id": "LLopbdHS01oD"
      }
    },
    {
      "cell_type": "markdown",
      "source": [
        "##Data Loading and Preparing"
      ],
      "metadata": {
        "id": "vRE1IIry081d"
      }
    },
    {
      "cell_type": "code",
      "metadata": {
        "id": "HD2Rk-ZDSMVx"
      },
      "source": [
        "from tensorflow import keras\n",
        "from keras.layers import Input, Dense, Dropout,Conv2D, MaxPooling2D, Flatten\n",
        "from tensorflow.keras import  datasets\n",
        "from matplotlib import pyplot as plt\n"
      ],
      "execution_count": null,
      "outputs": []
    },
    {
      "cell_type": "code",
      "source": [
        "(x_train, y_train), (x_test, y_test) = datasets.cifar10.load_data()"
      ],
      "metadata": {
        "id": "6V3cDL4G4WMF",
        "colab": {
          "base_uri": "https://localhost:8080/"
        },
        "outputId": "faba0850-4504-4e7d-f897-84883d8546ba"
      },
      "execution_count": null,
      "outputs": [
        {
          "output_type": "stream",
          "name": "stdout",
          "text": [
            "Downloading data from https://www.cs.toronto.edu/~kriz/cifar-10-python.tar.gz\n",
            "170500096/170498071 [==============================] - 3s 0us/step\n",
            "170508288/170498071 [==============================] - 3s 0us/step\n"
          ]
        }
      ]
    },
    {
      "cell_type": "code",
      "source": [
        "from sklearn.model_selection import train_test_split\n",
        "x_train,x_val,y_train,y_val=train_test_split(x_train,y_train, test_size=0.3)"
      ],
      "metadata": {
        "id": "-Ta3cMC2dZ5E"
      },
      "execution_count": null,
      "outputs": []
    },
    {
      "cell_type": "code",
      "source": [
        "x_train.shape"
      ],
      "metadata": {
        "colab": {
          "base_uri": "https://localhost:8080/"
        },
        "id": "55_pRpY4yeVd",
        "outputId": "abf01ad6-fd59-44ff-c798-3e152ccd7e7e"
      },
      "execution_count": null,
      "outputs": [
        {
          "output_type": "execute_result",
          "data": {
            "text/plain": [
              "(35000, 32, 32, 3)"
            ]
          },
          "metadata": {},
          "execution_count": 4
        }
      ]
    },
    {
      "cell_type": "code",
      "source": [
        "x_val.shape"
      ],
      "metadata": {
        "colab": {
          "base_uri": "https://localhost:8080/"
        },
        "id": "NO0tgxuJfP8b",
        "outputId": "99ad5148-bce9-4efb-c6f7-f85141e4c6f3"
      },
      "execution_count": null,
      "outputs": [
        {
          "output_type": "execute_result",
          "data": {
            "text/plain": [
              "(15000, 32, 32, 3)"
            ]
          },
          "metadata": {},
          "execution_count": 5
        }
      ]
    },
    {
      "cell_type": "code",
      "source": [
        "x_test.shape"
      ],
      "metadata": {
        "colab": {
          "base_uri": "https://localhost:8080/"
        },
        "id": "lcHxNPByyt2B",
        "outputId": "f365bb44-3edf-4fc4-a937-2b571e2c6d37"
      },
      "execution_count": null,
      "outputs": [
        {
          "output_type": "execute_result",
          "data": {
            "text/plain": [
              "(10000, 32, 32, 3)"
            ]
          },
          "metadata": {},
          "execution_count": 6
        }
      ]
    },
    {
      "cell_type": "code",
      "metadata": {
        "id": "vt9t37WrhWy8"
      },
      "source": [
        "#Normalize image pixel values.\n",
        "x_train = x_train/255\n",
        "x_val = x_val/255\n",
        "x_test=x_test/255"
      ],
      "execution_count": null,
      "outputs": []
    },
    {
      "cell_type": "markdown",
      "source": [
        "##Model Fitting"
      ],
      "metadata": {
        "id": "fLA9bbRJ1Ea2"
      }
    },
    {
      "cell_type": "code",
      "metadata": {
        "colab": {
          "base_uri": "https://localhost:8080/"
        },
        "id": "ORom-RTJZ-kp",
        "outputId": "b4edbbf9-9ba0-4b66-c28c-dd066754296f"
      },
      "source": [
        "model=keras.Sequential() #Create a network sequence.\n",
        "model.add(Input(shape=(32,32,3)))\n",
        "model.add(Flatten())\n",
        "model.add(Dense(256,activation = 'relu'))\n",
        "model.add(Dense(128,activation = 'relu'))\n",
        "model.add(Dense(10,activation = 'softmax'))\n",
        "\n",
        "model.summary()"
      ],
      "execution_count": null,
      "outputs": [
        {
          "output_type": "stream",
          "name": "stdout",
          "text": [
            "Model: \"sequential\"\n",
            "_________________________________________________________________\n",
            " Layer (type)                Output Shape              Param #   \n",
            "=================================================================\n",
            " flatten (Flatten)           (None, 3072)              0         \n",
            "                                                                 \n",
            " dense (Dense)               (None, 256)               786688    \n",
            "                                                                 \n",
            " dense_1 (Dense)             (None, 128)               32896     \n",
            "                                                                 \n",
            " dense_2 (Dense)             (None, 10)                1290      \n",
            "                                                                 \n",
            "=================================================================\n",
            "Total params: 820,874\n",
            "Trainable params: 820,874\n",
            "Non-trainable params: 0\n",
            "_________________________________________________________________\n"
          ]
        }
      ]
    },
    {
      "cell_type": "code",
      "metadata": {
        "id": "skMSXinVhSPV"
      },
      "source": [
        "model.compile(optimizer='Adam',loss=\"sparse_categorical_crossentropy\",metrics=['accuracy']) \n",
        "#model.compile(optimizer='Adam',loss=\"categorical_crossentropy\",metrics=['accuracy']) \n"
      ],
      "execution_count": null,
      "outputs": []
    },
    {
      "cell_type": "code",
      "source": [
        "x_val.shape"
      ],
      "metadata": {
        "colab": {
          "base_uri": "https://localhost:8080/"
        },
        "id": "YsWiSZrpgJRM",
        "outputId": "88a88921-866b-400a-ff8c-133178643a89"
      },
      "execution_count": null,
      "outputs": [
        {
          "output_type": "execute_result",
          "data": {
            "text/plain": [
              "(15000, 32, 32, 3)"
            ]
          },
          "metadata": {},
          "execution_count": 10
        }
      ]
    },
    {
      "cell_type": "code",
      "source": [
        "batch_size=128\n",
        "results= model.fit(x_train,y_train,epochs=20,validation_data=(x_val, y_val),\n",
        "                   steps_per_epoch=x_train.shape[0]/batch_size,validation_steps=x_val.shape[0]/batch_size)"
      ],
      "metadata": {
        "colab": {
          "base_uri": "https://localhost:8080/"
        },
        "id": "jqMuiWrsfs4w",
        "outputId": "74bd2a0e-a040-4965-f690-3a2fe8a7aa4b"
      },
      "execution_count": null,
      "outputs": [
        {
          "output_type": "stream",
          "name": "stdout",
          "text": [
            "Epoch 1/20\n",
            "273/273 [==============================] - 7s 20ms/step - loss: 1.9597 - accuracy: 0.3003 - val_loss: 1.8153 - val_accuracy: 0.3483\n",
            "Epoch 2/20\n",
            "273/273 [==============================] - 4s 15ms/step - loss: 1.7505 - accuracy: 0.3751 - val_loss: 1.6950 - val_accuracy: 0.3955\n",
            "Epoch 3/20\n",
            "273/273 [==============================] - 4s 15ms/step - loss: 1.6778 - accuracy: 0.4010 - val_loss: 1.7204 - val_accuracy: 0.3843\n",
            "Epoch 4/20\n",
            "273/273 [==============================] - 4s 16ms/step - loss: 1.6124 - accuracy: 0.4253 - val_loss: 1.6639 - val_accuracy: 0.4015\n",
            "Epoch 5/20\n",
            "273/273 [==============================] - 4s 15ms/step - loss: 1.5706 - accuracy: 0.4414 - val_loss: 1.6069 - val_accuracy: 0.4237\n",
            "Epoch 6/20\n",
            "273/273 [==============================] - 4s 15ms/step - loss: 1.5365 - accuracy: 0.4525 - val_loss: 1.5636 - val_accuracy: 0.4411\n",
            "Epoch 7/20\n",
            "273/273 [==============================] - 4s 15ms/step - loss: 1.5128 - accuracy: 0.4625 - val_loss: 1.5505 - val_accuracy: 0.4518\n",
            "Epoch 8/20\n",
            "273/273 [==============================] - 4s 15ms/step - loss: 1.4738 - accuracy: 0.4746 - val_loss: 1.5070 - val_accuracy: 0.4681\n",
            "Epoch 9/20\n",
            "273/273 [==============================] - 4s 15ms/step - loss: 1.4596 - accuracy: 0.4801 - val_loss: 1.5484 - val_accuracy: 0.4479\n",
            "Epoch 10/20\n",
            "273/273 [==============================] - 4s 15ms/step - loss: 1.4333 - accuracy: 0.4901 - val_loss: 1.5652 - val_accuracy: 0.4457\n",
            "Epoch 11/20\n",
            "273/273 [==============================] - 4s 15ms/step - loss: 1.4190 - accuracy: 0.4959 - val_loss: 1.5217 - val_accuracy: 0.4589\n",
            "Epoch 12/20\n",
            "273/273 [==============================] - 4s 15ms/step - loss: 1.3967 - accuracy: 0.5040 - val_loss: 1.5273 - val_accuracy: 0.4658\n",
            "Epoch 13/20\n",
            "273/273 [==============================] - 4s 15ms/step - loss: 1.3735 - accuracy: 0.5074 - val_loss: 1.4741 - val_accuracy: 0.4785\n",
            "Epoch 14/20\n",
            "273/273 [==============================] - 4s 15ms/step - loss: 1.3551 - accuracy: 0.5165 - val_loss: 1.4886 - val_accuracy: 0.4793\n",
            "Epoch 15/20\n",
            "273/273 [==============================] - 4s 15ms/step - loss: 1.3542 - accuracy: 0.5178 - val_loss: 1.5031 - val_accuracy: 0.4697\n",
            "Epoch 16/20\n",
            "273/273 [==============================] - 4s 15ms/step - loss: 1.3395 - accuracy: 0.5232 - val_loss: 1.4638 - val_accuracy: 0.4828\n",
            "Epoch 17/20\n",
            "273/273 [==============================] - 4s 15ms/step - loss: 1.3157 - accuracy: 0.5313 - val_loss: 1.4655 - val_accuracy: 0.4850\n",
            "Epoch 18/20\n",
            "273/273 [==============================] - 4s 15ms/step - loss: 1.3028 - accuracy: 0.5353 - val_loss: 1.4680 - val_accuracy: 0.4844\n",
            "Epoch 19/20\n",
            "273/273 [==============================] - 4s 15ms/step - loss: 1.2874 - accuracy: 0.5433 - val_loss: 1.4809 - val_accuracy: 0.4830\n",
            "Epoch 20/20\n",
            "273/273 [==============================] - 4s 15ms/step - loss: 1.2775 - accuracy: 0.5452 - val_loss: 1.4670 - val_accuracy: 0.4885\n"
          ]
        }
      ]
    },
    {
      "cell_type": "markdown",
      "source": [
        "##Results"
      ],
      "metadata": {
        "id": "LKvCkkJj1LsW"
      }
    },
    {
      "cell_type": "code",
      "metadata": {
        "id": "eQsuIhTzk3fE",
        "colab": {
          "base_uri": "https://localhost:8080/"
        },
        "outputId": "3df95254-3887-42a6-e159-2d7266e3e96d"
      },
      "source": [
        "score_val = model.evaluate(x_val, y_val)\n"
      ],
      "execution_count": null,
      "outputs": [
        {
          "output_type": "stream",
          "name": "stdout",
          "text": [
            "469/469 [==============================] - 1s 3ms/step - loss: 1.4670 - accuracy: 0.4885\n"
          ]
        }
      ]
    },
    {
      "cell_type": "code",
      "source": [
        "score_test = model.evaluate(x_test, y_test)\n"
      ],
      "metadata": {
        "colab": {
          "base_uri": "https://localhost:8080/"
        },
        "id": "tomEyUuKpx_m",
        "outputId": "080845ff-5c6c-4bf3-9f26-3fc4023bb0eb"
      },
      "execution_count": null,
      "outputs": [
        {
          "output_type": "stream",
          "name": "stdout",
          "text": [
            "313/313 [==============================] - 1s 3ms/step - loss: 1.4440 - accuracy: 0.4924\n"
          ]
        }
      ]
    },
    {
      "cell_type": "code",
      "source": [
        "y_pred_val=model.predict(x_val)\n",
        "y_pred_val.shape"
      ],
      "metadata": {
        "colab": {
          "base_uri": "https://localhost:8080/"
        },
        "id": "RBJZHozlmAaA",
        "outputId": "b3e34914-2a62-44ac-aaae-ce1d3cb8d106"
      },
      "execution_count": null,
      "outputs": [
        {
          "output_type": "execute_result",
          "data": {
            "text/plain": [
              "(15000, 10)"
            ]
          },
          "metadata": {},
          "execution_count": 14
        }
      ]
    },
    {
      "cell_type": "code",
      "source": [
        "from numpy import argmax\n",
        "y_pred_val1=argmax(y_pred_val,axis=1)\n",
        "y_pred_val1.shape"
      ],
      "metadata": {
        "colab": {
          "base_uri": "https://localhost:8080/"
        },
        "id": "zxBgP1zjmIQP",
        "outputId": "2c69898a-4119-4878-8abe-32e96f92cfe0"
      },
      "execution_count": null,
      "outputs": [
        {
          "output_type": "execute_result",
          "data": {
            "text/plain": [
              "(15000,)"
            ]
          },
          "metadata": {},
          "execution_count": 15
        }
      ]
    },
    {
      "cell_type": "code",
      "source": [
        "from sklearn.metrics import accuracy_score,  confusion_matrix\n",
        "accuracy_score(y_val,y_pred_val1)*100"
      ],
      "metadata": {
        "colab": {
          "base_uri": "https://localhost:8080/"
        },
        "id": "WYMeO3FMmj4m",
        "outputId": "49e9a988-824b-4362-cc10-30805689a89c"
      },
      "execution_count": null,
      "outputs": [
        {
          "output_type": "execute_result",
          "data": {
            "text/plain": [
              "48.846666666666664"
            ]
          },
          "metadata": {},
          "execution_count": 16
        }
      ]
    },
    {
      "cell_type": "code",
      "source": [
        "# testing the model by  x_test\n",
        "y_pred_test=model.predict(x_test)\n",
        "y_pred_test1=argmax(y_pred_test,axis=1)\n",
        "accuracy_score(y_test,y_pred_test1)*100"
      ],
      "metadata": {
        "colab": {
          "base_uri": "https://localhost:8080/"
        },
        "id": "_s80pE36mH5E",
        "outputId": "3a5badef-d17c-40a0-9b92-5777d2b4294f"
      },
      "execution_count": null,
      "outputs": [
        {
          "output_type": "execute_result",
          "data": {
            "text/plain": [
              "49.24"
            ]
          },
          "metadata": {},
          "execution_count": 17
        }
      ]
    },
    {
      "cell_type": "code",
      "source": [
        "print(confusion_matrix(y_test,y_pred_test1))"
      ],
      "metadata": {
        "colab": {
          "base_uri": "https://localhost:8080/"
        },
        "id": "B0c1Wdrtm9IO",
        "outputId": "dafd0fcc-0df8-43c1-bb12-73cc599015cd"
      },
      "execution_count": null,
      "outputs": [
        {
          "output_type": "stream",
          "name": "stdout",
          "text": [
            "[[535  58  34  11  46  43  13  72 155  33]\n",
            " [ 35 729   9   9   9  34  16  22  53  84]\n",
            " [ 76  34 306  49 172 122  86 114  27  14]\n",
            " [ 23  53  70 220  88 297  95  89  31  34]\n",
            " [ 51  25 106  27 467  70  97 134  20   3]\n",
            " [ 18  27  54 130  89 477  53 111  23  18]\n",
            " [ 15  32  84  54 139 104 502  39  13  18]\n",
            " [ 40  36  33  28  88  95  23 623  12  22]\n",
            " [ 98  95   8  12  35  37   6  24 637  48]\n",
            " [ 48 287  11  18  25  32  20  65  66 428]]\n"
          ]
        }
      ]
    }
  ]
}