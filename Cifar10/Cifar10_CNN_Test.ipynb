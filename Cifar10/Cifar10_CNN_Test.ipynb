{
  "nbformat": 4,
  "nbformat_minor": 0,
  "metadata": {
    "colab": {
      "name": "Cifar10 CNN Test.ipynb",
      "provenance": [],
      "collapsed_sections": [],
      "include_colab_link": true
    },
    "kernelspec": {
      "name": "python3",
      "display_name": "Python 3"
    },
    "language_info": {
      "name": "python"
    },
    "accelerator": "GPU"
  },
  "cells": [
    {
      "cell_type": "markdown",
      "metadata": {
        "id": "view-in-github",
        "colab_type": "text"
      },
      "source": [
        "<a href=\"https://colab.research.google.com/github/amrtariq/NTI_AI_Projects/blob/main/Cifar10_CNN_Test.ipynb\" target=\"_parent\"><img src=\"https://colab.research.google.com/assets/colab-badge.svg\" alt=\"Open In Colab\"/></a>"
      ]
    },
    {
      "cell_type": "markdown",
      "source": [
        "#Cifar10 CNN Test"
      ],
      "metadata": {
        "id": "Ebzy--1i1348"
      }
    },
    {
      "cell_type": "markdown",
      "source": [
        "##Loading and Preparing Data"
      ],
      "metadata": {
        "id": "O1Kj3KKg2GYZ"
      }
    },
    {
      "cell_type": "code",
      "metadata": {
        "id": "HD2Rk-ZDSMVx"
      },
      "source": [
        "from tensorflow import keras\n",
        "from keras.layers import Input, Dense, Dropout,Conv2D, MaxPool2D, Flatten\n",
        "from tensorflow.keras import  datasets\n",
        "from matplotlib import pyplot as plt"
      ],
      "execution_count": null,
      "outputs": []
    },
    {
      "cell_type": "code",
      "source": [
        "(x_train, y_train), (x_test, y_test) = datasets.cifar10.load_data()"
      ],
      "metadata": {
        "id": "6V3cDL4G4WMF"
      },
      "execution_count": null,
      "outputs": []
    },
    {
      "cell_type": "code",
      "source": [
        "x_train.shape"
      ],
      "metadata": {
        "colab": {
          "base_uri": "https://localhost:8080/"
        },
        "id": "55_pRpY4yeVd",
        "outputId": "6513ae77-837b-4ecb-a005-d64859943a76"
      },
      "execution_count": null,
      "outputs": [
        {
          "output_type": "execute_result",
          "data": {
            "text/plain": [
              "(50000, 32, 32, 3)"
            ]
          },
          "metadata": {},
          "execution_count": 3
        }
      ]
    },
    {
      "cell_type": "code",
      "source": [
        "x_test.shape"
      ],
      "metadata": {
        "colab": {
          "base_uri": "https://localhost:8080/"
        },
        "id": "lcHxNPByyt2B",
        "outputId": "ea44383c-eae9-4664-a402-3b9c31cd9f1d"
      },
      "execution_count": null,
      "outputs": [
        {
          "output_type": "execute_result",
          "data": {
            "text/plain": [
              "(10000, 32, 32, 3)"
            ]
          },
          "metadata": {},
          "execution_count": 4
        }
      ]
    },
    {
      "cell_type": "markdown",
      "source": [
        "0   airplane\n",
        "1   automobile\n",
        "2   bird\n",
        "3   cat\n",
        "4   deer\n",
        "5   dog\n",
        "6   frog\n",
        "7   horse\n",
        "8   ship\n",
        "9   truck"
      ],
      "metadata": {
        "id": "Xqt1zsp16ldQ"
      }
    },
    {
      "cell_type": "code",
      "source": [
        "plt.imshow(x_train[5],cmap=\"gray\")\n",
        "print(y_train[5])"
      ],
      "metadata": {
        "id": "Vq0Ewpop3T6t",
        "colab": {
          "base_uri": "https://localhost:8080/",
          "height": 283
        },
        "outputId": "2135986b-2260-45f5-8349-ed32d9c0172b"
      },
      "execution_count": null,
      "outputs": [
        {
          "output_type": "stream",
          "name": "stdout",
          "text": [
            "[1]\n"
          ]
        },
        {
          "output_type": "display_data",
          "data": {
            "image/png": "[encoded data removed]",
            "text/plain": [
              "<Figure size 432x288 with 1 Axes>"
            ]
          },
          "metadata": {
            "needs_background": "light"
          }
        }
      ]
    },
    {
      "cell_type": "code",
      "source": [
        "#Convert the labels into one-hot codes.\n",
        "num_classes = 10\n",
        "y_train = keras.utils.to_categorical(y_train, num_classes)\n",
        "y_test = keras.utils.to_categorical(y_test, num_classes)\n",
        "print(y_train[0])"
      ],
      "metadata": {
        "colab": {
          "base_uri": "https://localhost:8080/"
        },
        "id": "SYay648d3REP",
        "outputId": "edc94c3a-d183-48ec-eb99-5af23424471b"
      },
      "execution_count": null,
      "outputs": [
        {
          "output_type": "stream",
          "name": "stdout",
          "text": [
            "[0. 0. 0. 0. 0. 0. 1. 0. 0. 0.]\n"
          ]
        }
      ]
    },
    {
      "cell_type": "code",
      "metadata": {
        "id": "vt9t37WrhWy8"
      },
      "source": [
        "#Normalize image pixel values.\n",
        "x_train = x_train/255\n",
        "x_test = x_test/255"
      ],
      "execution_count": null,
      "outputs": []
    },
    {
      "cell_type": "markdown",
      "source": [
        "##Model Fitting"
      ],
      "metadata": {
        "id": "I4Oey7ov2NEf"
      }
    },
    {
      "cell_type": "code",
      "metadata": {
        "colab": {
          "base_uri": "https://localhost:8080/"
        },
        "id": "ORom-RTJZ-kp",
        "outputId": "f36dcae9-670b-426a-8251-82303f829fec"
      },
      "source": [
        "model=keras.Sequential() #Create a network sequence.\n",
        "\n",
        "model.add(Input(shape=(32,32,3)))\n",
        "model.add(Conv2D(filters=6,kernel_size = 5,strides = (1,1), padding = 'valid',activation = 'relu'))\n",
        "#model.add(Conv2D(filters=6,kernel_size = 5,strides = (1,1), padding = 'valid',activation = 'relu',input_shape = (32,32,3)))\n",
        "model.add(MaxPool2D(pool_size=(2,2), strides = (2,2), padding = 'valid'))\n",
        "\n",
        "model.add(Conv2D(filters=16,kernel_size = 5,strides = (1,1), padding = 'valid',activation = 'relu'))\n",
        "model.add(MaxPool2D(pool_size=(2,2), strides = (2,2), padding = 'valid'))\n",
        "\n",
        "model.add(Flatten())\n",
        "model.add(Dense(120,activation = 'relu'))\n",
        "model.add(Dense(84,activation = 'relu'))\n",
        "model.add(Dense(10,activation = 'softmax'))\n",
        "\n",
        "model.summary()"
      ],
      "execution_count": null,
      "outputs": [
        {
          "output_type": "stream",
          "name": "stdout",
          "text": [
            "Model: \"sequential\"\n",
            "_________________________________________________________________\n",
            " Layer (type)                Output Shape              Param #   \n",
            "=================================================================\n",
            " conv2d (Conv2D)             (None, 28, 28, 6)         456       \n",
            "                                                                 \n",
            " max_pooling2d (MaxPooling2D  (None, 14, 14, 6)        0         \n",
            " )                                                               \n",
            "                                                                 \n",
            " conv2d_1 (Conv2D)           (None, 10, 10, 16)        2416      \n",
            "                                                                 \n",
            " max_pooling2d_1 (MaxPooling  (None, 5, 5, 16)         0         \n",
            " 2D)                                                             \n",
            "                                                                 \n",
            " flatten (Flatten)           (None, 400)               0         \n",
            "                                                                 \n",
            " dense (Dense)               (None, 120)               48120     \n",
            "                                                                 \n",
            " dense_1 (Dense)             (None, 84)                10164     \n",
            "                                                                 \n",
            " dense_2 (Dense)             (None, 10)                850       \n",
            "                                                                 \n",
            "=================================================================\n",
            "Total params: 62,006\n",
            "Trainable params: 62,006\n",
            "Non-trainable params: 0\n",
            "_________________________________________________________________\n"
          ]
        }
      ]
    },
    {
      "cell_type": "code",
      "metadata": {
        "id": "skMSXinVhSPV",
        "colab": {
          "base_uri": "https://localhost:8080/"
        },
        "outputId": "21038789-5af9-45ba-e6ee-6ec96bf1c820"
      },
      "source": [
        "model.compile(optimizer='Adam',loss=\"categorical_crossentropy\",metrics=['accuracy']) \n",
        "#model.compile(optimizer=keras.optimizers.Adam(),loss=\"categorical_crossentropy\",metrics=['accuracy']) \n",
        "results= model.fit(x_train,y_train,epochs=20,batch_size=128,validation_data=(x_test, y_test))\n",
        "\n"
      ],
      "execution_count": null,
      "outputs": [
        {
          "output_type": "stream",
          "name": "stdout",
          "text": [
            "Epoch 1/20\n",
            "391/391 [==============================] - 9s 11ms/step - loss: 1.7526 - accuracy: 0.3604 - val_loss: 1.5608 - val_accuracy: 0.4416\n",
            "Epoch 2/20\n",
            "391/391 [==============================] - 2s 6ms/step - loss: 1.4730 - accuracy: 0.4712 - val_loss: 1.4451 - val_accuracy: 0.4807\n",
            "Epoch 3/20\n",
            "391/391 [==============================] - 2s 6ms/step - loss: 1.3623 - accuracy: 0.5129 - val_loss: 1.3405 - val_accuracy: 0.5192\n",
            "Epoch 4/20\n",
            "391/391 [==============================] - 2s 6ms/step - loss: 1.2862 - accuracy: 0.5408 - val_loss: 1.2988 - val_accuracy: 0.5337\n",
            "Epoch 5/20\n",
            "391/391 [==============================] - 2s 5ms/step - loss: 1.2345 - accuracy: 0.5594 - val_loss: 1.2681 - val_accuracy: 0.5501\n",
            "Epoch 6/20\n",
            "391/391 [==============================] - 2s 6ms/step - loss: 1.1867 - accuracy: 0.5778 - val_loss: 1.2444 - val_accuracy: 0.5579\n",
            "Epoch 7/20\n",
            "391/391 [==============================] - 2s 6ms/step - loss: 1.1451 - accuracy: 0.5939 - val_loss: 1.2400 - val_accuracy: 0.5649\n",
            "Epoch 8/20\n",
            "391/391 [==============================] - 2s 6ms/step - loss: 1.1109 - accuracy: 0.6074 - val_loss: 1.1717 - val_accuracy: 0.5871\n",
            "Epoch 9/20\n",
            "391/391 [==============================] - 2s 6ms/step - loss: 1.0798 - accuracy: 0.6188 - val_loss: 1.1648 - val_accuracy: 0.5904\n",
            "Epoch 10/20\n",
            "391/391 [==============================] - 2s 6ms/step - loss: 1.0399 - accuracy: 0.6351 - val_loss: 1.1783 - val_accuracy: 0.5893\n",
            "Epoch 11/20\n",
            "391/391 [==============================] - 2s 6ms/step - loss: 1.0097 - accuracy: 0.6448 - val_loss: 1.1392 - val_accuracy: 0.6019\n",
            "Epoch 12/20\n",
            "391/391 [==============================] - 2s 5ms/step - loss: 0.9833 - accuracy: 0.6547 - val_loss: 1.1458 - val_accuracy: 0.6010\n",
            "Epoch 13/20\n",
            "391/391 [==============================] - 2s 6ms/step - loss: 0.9617 - accuracy: 0.6622 - val_loss: 1.1289 - val_accuracy: 0.6076\n",
            "Epoch 14/20\n",
            "391/391 [==============================] - 2s 6ms/step - loss: 0.9321 - accuracy: 0.6736 - val_loss: 1.1716 - val_accuracy: 0.5946\n",
            "Epoch 15/20\n",
            "391/391 [==============================] - 2s 6ms/step - loss: 0.9083 - accuracy: 0.6818 - val_loss: 1.1407 - val_accuracy: 0.6118\n",
            "Epoch 16/20\n",
            "391/391 [==============================] - 2s 6ms/step - loss: 0.8915 - accuracy: 0.6852 - val_loss: 1.1231 - val_accuracy: 0.6144\n",
            "Epoch 17/20\n",
            "391/391 [==============================] - 2s 6ms/step - loss: 0.8718 - accuracy: 0.6936 - val_loss: 1.1227 - val_accuracy: 0.6134\n",
            "Epoch 18/20\n",
            "391/391 [==============================] - 2s 6ms/step - loss: 0.8498 - accuracy: 0.7003 - val_loss: 1.1410 - val_accuracy: 0.6130\n",
            "Epoch 19/20\n",
            "391/391 [==============================] - 2s 6ms/step - loss: 0.8298 - accuracy: 0.7075 - val_loss: 1.1195 - val_accuracy: 0.6195\n",
            "Epoch 20/20\n",
            "391/391 [==============================] - 2s 6ms/step - loss: 0.8157 - accuracy: 0.7134 - val_loss: 1.1483 - val_accuracy: 0.6191\n"
          ]
        }
      ]
    },
    {
      "cell_type": "markdown",
      "source": [
        "##Results"
      ],
      "metadata": {
        "id": "5nnW-g5K2VWq"
      }
    },
    {
      "cell_type": "code",
      "metadata": {
        "id": "eQsuIhTzk3fE",
        "colab": {
          "base_uri": "https://localhost:8080/"
        },
        "outputId": "476df003-b9ad-48f5-b617-139a5e6425c8"
      },
      "source": [
        "score = model.evaluate(x_test, y_test)\n"
      ],
      "execution_count": null,
      "outputs": [
        {
          "output_type": "stream",
          "name": "stdout",
          "text": [
            "313/313 [==============================] - 1s 4ms/step - loss: 1.1483 - accuracy: 0.6191\n"
          ]
        }
      ]
    },
    {
      "cell_type": "code",
      "source": [
        "plt.plot(results.history['accuracy'], label='accuracy')\n",
        "plt.plot(results.history['val_accuracy'], label = 'val_accuracy')\n",
        "plt.xlabel('Epoch')\n",
        "plt.ylabel('Accuracy')\n",
        "#plt.ylim([0.5, 1])\n",
        "plt.legend(loc='lower right')\n",
        "\n",
        "test_loss, test_acc = model.evaluate(x_test,  y_test)"
      ],
      "metadata": {
        "colab": {
          "base_uri": "https://localhost:8080/",
          "height": 296
        },
        "id": "lrxn2f3Nr06H",
        "outputId": "b2f50331-2d0f-488d-b4c6-b92f8f1d3ca9"
      },
      "execution_count": null,
      "outputs": [
        {
          "output_type": "stream",
          "name": "stdout",
          "text": [
            "313/313 [==============================] - 1s 3ms/step - loss: 1.1483 - accuracy: 0.6191\n"
          ]
        },
        {
          "output_type": "display_data",
          "data": {
            "image/png": "[encoded data removed]",
            "text/plain": [
              "<Figure size 432x288 with 1 Axes>"
            ]
          },
          "metadata": {
            "needs_background": "light"
          }
        }
      ]
    },
    {
      "cell_type": "code",
      "metadata": {
        "id": "tK3DWgfVS_Un",
        "colab": {
          "base_uri": "https://localhost:8080/",
          "height": 312
        },
        "outputId": "24c196d5-89e1-4478-b971-3bbb233b5fae"
      },
      "source": [
        "plt.plot(results.history['loss'])\n",
        "plt.title('Training and Validation losses')\n",
        "plt.xlabel('epoch')\n",
        "plt.ylabel('Training and Validation losses')"
      ],
      "execution_count": null,
      "outputs": [
        {
          "output_type": "execute_result",
          "data": {
            "text/plain": [
              "Text(0, 0.5, 'Training and Validation losses')"
            ]
          },
          "metadata": {},
          "execution_count": 12
        },
        {
          "output_type": "display_data",
          "data": {
            "image/png": "[encoded data removed]",
            "text/plain": [
              "<Figure size 432x288 with 1 Axes>"
            ]
          },
          "metadata": {
            "needs_background": "light"
          }
        }
      ]
    },
    {
      "cell_type": "code",
      "source": [
        "import matplotlib.pyplot as plt\n",
        "plt.plot(results.history['accuracy'])\n",
        "plt.ylabel('Training  accuracy')\n",
        "plt.xlabel('epoch')"
      ],
      "metadata": {
        "id": "SSq-scHBiSGj",
        "outputId": "8cdf5ded-3e7f-4ca0-83b5-bf3b14f2468d",
        "colab": {
          "base_uri": "https://localhost:8080/",
          "height": 296
        }
      },
      "execution_count": null,
      "outputs": [
        {
          "output_type": "execute_result",
          "data": {
            "text/plain": [
              "Text(0.5, 0, 'epoch')"
            ]
          },
          "metadata": {},
          "execution_count": 13
        },
        {
          "output_type": "display_data",
          "data": {
            "image/png": "[encoded data removed]",
            "text/plain": [
              "<Figure size 432x288 with 1 Axes>"
            ]
          },
          "metadata": {
            "needs_background": "light"
          }
        }
      ]
    },
    {
      "cell_type": "code",
      "source": [
        "import matplotlib.pyplot as plt\n",
        "plt.plot(results.history['val_accuracy'])\n",
        "plt.ylabel(' Validation accuracy')\n",
        "plt.xlabel('epoch')"
      ],
      "metadata": {
        "colab": {
          "base_uri": "https://localhost:8080/",
          "height": 297
        },
        "id": "1tbGUfyJ-Mhz",
        "outputId": "34361755-cdcf-46f2-f489-1e5dcfaf5d97"
      },
      "execution_count": null,
      "outputs": [
        {
          "output_type": "execute_result",
          "data": {
            "text/plain": [
              "Text(0.5, 0, 'epoch')"
            ]
          },
          "metadata": {},
          "execution_count": 14
        },
        {
          "output_type": "display_data",
          "data": {
            "image/png": "[encoded data removed]",
            "text/plain": [
              "<Figure size 432x288 with 1 Axes>"
            ]
          },
          "metadata": {
            "needs_background": "light"
          }
        }
      ]
    }
  ]
}