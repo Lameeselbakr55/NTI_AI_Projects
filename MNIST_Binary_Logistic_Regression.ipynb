{
  "cells": [
    {
      "cell_type": "markdown",
      "metadata": {
        "id": "view-in-github",
        "colab_type": "text"
      },
      "source": [
        "<a href=\"https://colab.research.google.com/github/Lameeselbakr55/NTI_AI_Projects/blob/master/MNIST_Binary_Logistic_Regression.ipynb\" target=\"_parent\"><img src=\"https://colab.research.google.com/assets/colab-badge.svg\" alt=\"Open In Colab\"/></a>"
      ]
    },
    {
      "cell_type": "markdown",
      "source": [
        "#MNIST Binary Logistic Regression"
      ],
      "metadata": {
        "id": "h_M9d8z-dBPF"
      }
    },
    {
      "cell_type": "markdown",
      "source": [
        "##Loading and Preparing Data"
      ],
      "metadata": {
        "id": "ROE_2-DXdL-c"
      }
    },
    {
      "cell_type": "code",
      "execution_count": null,
      "metadata": {
        "id": "5NDNcqKFm8QT"
      },
      "outputs": [],
      "source": [
        "from sklearn.linear_model import LogisticRegression"
      ]
    },
    {
      "cell_type": "code",
      "execution_count": null,
      "metadata": {
        "id": "XKv6pUV1m9sg"
      },
      "outputs": [],
      "source": [
        "from keras.datasets import mnist\n",
        "(x_train, y_train), (x_test, y_test) = mnist.load_data()"
      ]
    },
    {
      "cell_type": "code",
      "execution_count": null,
      "metadata": {
        "colab": {
          "base_uri": "https://localhost:8080/"
        },
        "id": "G8JKbHbboBxK",
        "outputId": "0bd75a76-4133-4642-900d-73a50fd83260"
      },
      "outputs": [
        {
          "data": {
            "text/plain": [
              "(60000, 28, 28)"
            ]
          },
          "execution_count": 3,
          "metadata": {},
          "output_type": "execute_result"
        }
      ],
      "source": [
        "x_train.shape"
      ]
    },
    {
      "cell_type": "code",
      "execution_count": null,
      "metadata": {
        "colab": {
          "base_uri": "https://localhost:8080/"
        },
        "id": "WpfdPtCJC75a",
        "outputId": "ce4a33ae-f21b-416b-cf5f-88a101958dbf"
      },
      "outputs": [
        {
          "data": {
            "text/plain": [
              "(10000, 28, 28)"
            ]
          },
          "execution_count": 4,
          "metadata": {},
          "output_type": "execute_result"
        }
      ],
      "source": [
        "x_test.shape"
      ]
    },
    {
      "cell_type": "code",
      "execution_count": null,
      "metadata": {
        "colab": {
          "base_uri": "https://localhost:8080/"
        },
        "id": "kbLwTYk5oB0H",
        "outputId": "a4c5402c-22b7-402f-ba05-b17dad2f0dbd"
      },
      "outputs": [
        {
          "data": {
            "text/plain": [
              "array([5, 0, 4, 1, 9, 2, 1, 3, 1, 4], dtype=uint8)"
            ]
          },
          "execution_count": 5,
          "metadata": {},
          "output_type": "execute_result"
        }
      ],
      "source": [
        "y_train[0:10]"
      ]
    },
    {
      "cell_type": "code",
      "execution_count": null,
      "metadata": {
        "colab": {
          "base_uri": "https://localhost:8080/"
        },
        "id": "jwB2nS2QoB3Z",
        "outputId": "35d4915c-2d26-4836-c526-b7463415eb2d"
      },
      "outputs": [
        {
          "data": {
            "text/plain": [
              "(12665, 28, 28)"
            ]
          },
          "execution_count": 6,
          "metadata": {},
          "output_type": "execute_result"
        }
      ],
      "source": [
        "#we create new variables that contain only zeros and ones.\n",
        "x_train_binary= x_train[(y_train==0) | (y_train==1)]\n",
        "y_train_binary= y_train[(y_train==0) | (y_train==1)]\n",
        "\n",
        "#Let’s check the shape of the new variables.\n",
        "x_train_binary.shape"
      ]
    },
    {
      "cell_type": "code",
      "execution_count": null,
      "metadata": {
        "colab": {
          "base_uri": "https://localhost:8080/"
        },
        "id": "CNAbyHSkoB6B",
        "outputId": "9cfffc18-a34e-4a0f-e6f6-c673640bd279"
      },
      "outputs": [
        {
          "name": "stdout",
          "output_type": "stream",
          "text": [
            "[5 0 4 1 9 2 1 3 1 4]\n",
            "[0 1 1 1 1 0 1 1 0 0]\n"
          ]
        }
      ],
      "source": [
        "print(y_train[0:10]) \n",
        "print(y_train_binary[0:10])"
      ]
    },
    {
      "cell_type": "code",
      "execution_count": null,
      "metadata": {
        "colab": {
          "base_uri": "https://localhost:8080/"
        },
        "id": "RJNswhHkoB89",
        "outputId": "89201ae9-98a7-4a8d-c80c-de27ace57ec7"
      },
      "outputs": [
        {
          "data": {
            "text/plain": [
              "(12665, 784)"
            ]
          },
          "execution_count": 8,
          "metadata": {},
          "output_type": "execute_result"
        }
      ],
      "source": [
        "#we need to flatten data into two dimensions only: (28 * 28 = 784).\n",
        "\n",
        "x_train_final = x_train_binary.reshape((-1, 784))\n",
        "x_train_final.shape"
      ]
    },
    {
      "cell_type": "code",
      "execution_count": null,
      "metadata": {
        "colab": {
          "base_uri": "https://localhost:8080/"
        },
        "id": "ajqJCSIPovFf",
        "outputId": "0b749708-db54-46df-ca4c-7586d3fea064"
      },
      "outputs": [
        {
          "data": {
            "text/plain": [
              "(2115, 28, 28)"
            ]
          },
          "execution_count": 9,
          "metadata": {},
          "output_type": "execute_result"
        }
      ],
      "source": [
        "#A similar sequence of operations we perform for the test set.\n",
        "\n",
        "x_test_binary= x_test[(y_test==0) | (y_test==1)]\n",
        "y_test_binary= y_test[(y_test==0) | (y_test==1)]\n",
        "x_test_binary.shape"
      ]
    },
    {
      "cell_type": "code",
      "execution_count": null,
      "metadata": {
        "colab": {
          "base_uri": "https://localhost:8080/"
        },
        "id": "kqk5lrgkovJI",
        "outputId": "5db7faf2-fbf4-41d2-e790-88bde2d3dfe7"
      },
      "outputs": [
        {
          "data": {
            "text/plain": [
              "(2115, 784)"
            ]
          },
          "execution_count": 10,
          "metadata": {},
          "output_type": "execute_result"
        }
      ],
      "source": [
        "x_test_final = x_test_binary.reshape((-1, 784))\n",
        "x_test_final.shape"
      ]
    },
    {
      "cell_type": "code",
      "execution_count": null,
      "metadata": {
        "id": "VqgGpBjAovL3"
      },
      "outputs": [],
      "source": [
        "#The last element of data preprocessing is their normalization.\n",
        "\n",
        "x_train_final = x_train_final / 255\n",
        "x_test_final = x_test_final / 255"
      ]
    },
    {
      "cell_type": "markdown",
      "source": [
        "##Model Fitting"
      ],
      "metadata": {
        "id": "0eK-q9OHdSiC"
      }
    },
    {
      "cell_type": "code",
      "execution_count": null,
      "metadata": {
        "id": "_oPxy8UBpmJ2"
      },
      "outputs": [],
      "source": [
        "model=LogisticRegression()\n"
      ]
    },
    {
      "cell_type": "code",
      "execution_count": null,
      "metadata": {
        "colab": {
          "base_uri": "https://localhost:8080/"
        },
        "id": "sTTGaqADpmMt",
        "outputId": "f18a63a3-ca0e-4fdb-a0de-2c003889b9f8"
      },
      "outputs": [
        {
          "data": {
            "text/plain": [
              "LogisticRegression()"
            ]
          },
          "execution_count": 13,
          "metadata": {},
          "output_type": "execute_result"
        }
      ],
      "source": [
        "model.fit(x_train_final,y_train_binary)  "
      ]
    },
    {
      "cell_type": "markdown",
      "source": [
        "##Results"
      ],
      "metadata": {
        "id": "6s6_bbSLdXJk"
      }
    },
    {
      "cell_type": "code",
      "execution_count": null,
      "metadata": {
        "id": "R42mRw_MpmUY"
      },
      "outputs": [],
      "source": [
        "y_pred= model.predict(x_test_final)"
      ]
    },
    {
      "cell_type": "code",
      "execution_count": null,
      "metadata": {
        "colab": {
          "base_uri": "https://localhost:8080/"
        },
        "id": "60xhEE3u8K3K",
        "outputId": "3ec469e7-d7bc-4e90-84fb-783dc0ba145b"
      },
      "outputs": [
        {
          "data": {
            "text/plain": [
              "array([1, 0, 1, ..., 1, 0, 1], dtype=uint8)"
            ]
          },
          "execution_count": 15,
          "metadata": {},
          "output_type": "execute_result"
        }
      ],
      "source": [
        "y_pred"
      ]
    },
    {
      "cell_type": "code",
      "execution_count": null,
      "metadata": {
        "id": "h9ximKMBCst1"
      },
      "outputs": [],
      "source": [
        "from sklearn.metrics import accuracy_score\n"
      ]
    },
    {
      "cell_type": "code",
      "execution_count": null,
      "metadata": {
        "colab": {
          "base_uri": "https://localhost:8080/"
        },
        "id": "nD2hKz9wDLuY",
        "outputId": "541d44b2-fb81-4224-8fa4-ca86d720f0ad"
      },
      "outputs": [
        {
          "data": {
            "text/plain": [
              "99.95271867612293"
            ]
          },
          "execution_count": 17,
          "metadata": {},
          "output_type": "execute_result"
        }
      ],
      "source": [
        "accuracy_score(y_test_binary,y_pred)*100"
      ]
    }
  ],
  "metadata": {
    "colab": {
      "name": "MNIST Binary Logistic Regression.ipynb",
      "provenance": [],
      "collapsed_sections": [],
      "include_colab_link": true
    },
    "kernelspec": {
      "display_name": "Python 3 (ipykernel)",
      "language": "python",
      "name": "python3"
    },
    "language_info": {
      "codemirror_mode": {
        "name": "ipython",
        "version": 3
      },
      "file_extension": ".py",
      "mimetype": "text/x-python",
      "name": "python",
      "nbconvert_exporter": "python",
      "pygments_lexer": "ipython3",
      "version": "3.9.12"
    }
  },
  "nbformat": 4,
  "nbformat_minor": 0
}