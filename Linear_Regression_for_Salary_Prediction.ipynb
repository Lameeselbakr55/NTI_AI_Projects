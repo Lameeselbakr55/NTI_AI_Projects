{
  "cells": [
    {
      "cell_type": "markdown",
      "metadata": {
        "id": "view-in-github",
        "colab_type": "text"
      },
      "source": [
        "<a href=\"https://colab.research.google.com/github/Lameeselbakr55/NTI_AI_Projects/blob/master/Linear_Regression_for_Salary_Prediction.ipynb\" target=\"_parent\"><img src=\"https://colab.research.google.com/assets/colab-badge.svg\" alt=\"Open In Colab\"/></a>"
      ]
    },
    {
      "cell_type": "markdown",
      "source": [
        "#Linear Regression for Salary Prediction\n",
        "\n",
        "Dividing data into training and testing data and using Linear regression to fit salary model"
      ],
      "metadata": {
        "id": "ct5PBqMNUA4i"
      }
    },
    {
      "cell_type": "markdown",
      "source": [
        "##Data Loading and Preparation"
      ],
      "metadata": {
        "id": "amDQ-Qw4Uklk"
      }
    },
    {
      "cell_type": "code",
      "execution_count": null,
      "metadata": {
        "id": "2Ji0M1Z_mk11"
      },
      "outputs": [],
      "source": [
        "import pandas as pd\n",
        "import matplotlib.pyplot as plt\n",
        "from sklearn import linear_model"
      ]
    },
    {
      "cell_type": "code",
      "execution_count": null,
      "metadata": {
        "colab": {
          "base_uri": "https://localhost:8080/"
        },
        "id": "PJ3Mh2ewp3Wj",
        "outputId": "dee89804-96b1-44c8-bf38-00eefb0143e4"
      },
      "outputs": [
        {
          "output_type": "stream",
          "name": "stdout",
          "text": [
            "(30, 2)\n"
          ]
        }
      ],
      "source": [
        "df = pd.read_csv('Salary.csv')\n",
        "print(df.shape)\n",
        "#df.head(5)"
      ]
    },
    {
      "cell_type": "code",
      "execution_count": null,
      "metadata": {
        "id": "KcDg2_uouWiy"
      },
      "outputs": [],
      "source": [
        "X = df.iloc[:,0:1]\n",
        "y = df.iloc[:,1]"
      ]
    },
    {
      "cell_type": "code",
      "execution_count": null,
      "metadata": {
        "id": "cmH3JlVyacBl"
      },
      "outputs": [],
      "source": [
        "from sklearn.model_selection import train_test_split \n",
        "X_train, X_test, y_train, y_test = train_test_split( X, y, test_size=0.4, random_state=42)"
      ]
    },
    {
      "cell_type": "markdown",
      "source": [
        "##Model Fitting"
      ],
      "metadata": {
        "id": "Tl7FzLY6Uthm"
      }
    },
    {
      "cell_type": "code",
      "execution_count": null,
      "metadata": {
        "id": "stXfQzoWnS51"
      },
      "outputs": [],
      "source": [
        "regr = linear_model.LinearRegression()"
      ]
    },
    {
      "cell_type": "code",
      "execution_count": null,
      "metadata": {
        "colab": {
          "base_uri": "https://localhost:8080/"
        },
        "id": "RQOSK1FsnTIJ",
        "outputId": "13f839c6-1f49-4219-e670-6b268b558b20"
      },
      "outputs": [
        {
          "output_type": "execute_result",
          "data": {
            "text/plain": [
              "LinearRegression()"
            ]
          },
          "metadata": {},
          "execution_count": 8
        }
      ],
      "source": [
        "regr.fit(X_train, y_train) "
      ]
    },
    {
      "cell_type": "markdown",
      "source": [
        "##Results"
      ],
      "metadata": {
        "id": "ZSwd3LJVUxCM"
      }
    },
    {
      "cell_type": "code",
      "execution_count": null,
      "metadata": {
        "id": "DpHoXCkynhDN"
      },
      "outputs": [],
      "source": [
        "y_pred = regr.predict(X_test)"
      ]
    },
    {
      "cell_type": "code",
      "execution_count": null,
      "metadata": {
        "colab": {
          "base_uri": "https://localhost:8080/",
          "height": 265
        },
        "id": "QP_h1KltnhGg",
        "outputId": "53c7b910-a43e-4091-f785-a9fc1908d31d"
      },
      "outputs": [
        {
          "output_type": "display_data",
          "data": {
            "text/plain": [
              "<Figure size 432x288 with 1 Axes>"
            ],
            "image/png": "[encoded data removed]"
          },
          "metadata": {
            "needs_background": "light"
          }
        }
      ],
      "source": [
        "plt.scatter(X_test, y_test, c='blue') \n",
        "plt.plot(X_test, y_pred, color='g') \n",
        "plt.show()"
      ]
    },
    {
      "cell_type": "code",
      "execution_count": null,
      "metadata": {
        "colab": {
          "base_uri": "https://localhost:8080/"
        },
        "id": "Wed7ewGcZtyL",
        "outputId": "4bf74ac3-9a42-40e8-dd1e-bb16b33b743e"
      },
      "outputs": [
        {
          "output_type": "execute_result",
          "data": {
            "text/plain": [
              "37867393"
            ]
          },
          "metadata": {},
          "execution_count": 11
        }
      ],
      "source": [
        "from sklearn.metrics import mean_squared_error\n",
        "mse=mean_squared_error(y_test,y_pred)\n",
        "mse=mse.astype(int)\n",
        "mse"
      ]
    }
  ],
  "metadata": {
    "colab": {
      "collapsed_sections": [],
      "name": "Linear Regression for Salary Prediction.ipynb",
      "provenance": [],
      "include_colab_link": true
    },
    "kernelspec": {
      "display_name": "Python 3 (ipykernel)",
      "language": "python",
      "name": "python3"
    },
    "language_info": {
      "codemirror_mode": {
        "name": "ipython",
        "version": 3
      },
      "file_extension": ".py",
      "mimetype": "text/x-python",
      "name": "python",
      "nbconvert_exporter": "python",
      "pygments_lexer": "ipython3",
      "version": "3.9.12"
    }
  },
  "nbformat": 4,
  "nbformat_minor": 0
}