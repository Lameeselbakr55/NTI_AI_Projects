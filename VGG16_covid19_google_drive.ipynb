{
  "nbformat": 4,
  "nbformat_minor": 0,
  "metadata": {
    "colab": {
      "name": "VGG16_covid19_google_drive.ipynb",
      "provenance": [],
      "include_colab_link": true
    },
    "kernelspec": {
      "name": "python3",
      "display_name": "Python 3"
    },
    "language_info": {
      "name": "python"
    },
    "accelerator": "GPU"
  },
  "cells": [
    {
      "cell_type": "markdown",
      "metadata": {
        "id": "view-in-github",
        "colab_type": "text"
      },
      "source": [
        "<a href=\"https://colab.research.google.com/github/Lameeselbakr55/NTI_AI_Projects/blob/master/VGG16_covid19_google_drive.ipynb\" target=\"_parent\"><img src=\"https://colab.research.google.com/assets/colab-badge.svg\" alt=\"Open In Colab\"/></a>"
      ]
    },
    {
      "cell_type": "markdown",
      "source": [
        "#COVID19 Check based on VGG16"
      ],
      "metadata": {
        "id": "ujjaCEct4WGD"
      }
    },
    {
      "cell_type": "markdown",
      "source": [
        "##Load data and Preprocessing"
      ],
      "metadata": {
        "id": "tkhtFLfY4gpf"
      }
    },
    {
      "cell_type": "code",
      "execution_count": null,
      "metadata": {
        "colab": {
          "base_uri": "https://localhost:8080/"
        },
        "id": "WWIvMtKutXii",
        "outputId": "7160df27-d76e-42cc-b4ab-0dcb9b6ae3ac"
      },
      "outputs": [
        {
          "output_type": "stream",
          "name": "stdout",
          "text": [
            "Drive already mounted at /content/drive; to attempt to forcibly remount, call drive.mount(\"/content/drive\", force_remount=True).\n"
          ]
        }
      ],
      "source": [
        "from google.colab import drive\n",
        "drive.mount('/content/drive')"
      ]
    },
    {
      "cell_type": "code",
      "source": [
        "import keras \n",
        "from keras.models import * \n",
        "from keras.layers import * \n",
        "from keras.preprocessing import image\n",
        "import PIL\n",
        "from keras.callbacks import EarlyStopping"
      ],
      "metadata": {
        "id": "-ltR4vv6xqCH"
      },
      "execution_count": null,
      "outputs": []
    },
    {
      "cell_type": "code",
      "source": [
        "from keras.preprocessing.image import ImageDataGenerator\n",
        "\n",
        "train_datagen = ImageDataGenerator(rescale=1./255,)\n",
        "test_datagen = ImageDataGenerator(rescale=1./255)"
      ],
      "metadata": {
        "id": "DA7kt1jsxr1P"
      },
      "execution_count": null,
      "outputs": []
    },
    {
      "cell_type": "code",
      "source": [
        "train_set = train_datagen.flow_from_directory('/content/drive/MyDrive/CovidDataset/Train/',\n",
        "      target_size=(224, 224), batch_size=32, class_mode='categorical', shuffle=False)"
      ],
      "metadata": {
        "colab": {
          "base_uri": "https://localhost:8080/"
        },
        "id": "kT2YIcNwykhx",
        "outputId": "27a1778c-db06-4c85-8440-2f6b1430ae0a"
      },
      "execution_count": null,
      "outputs": [
        {
          "output_type": "stream",
          "name": "stdout",
          "text": [
            "Found 224 images belonging to 2 classes.\n"
          ]
        }
      ]
    },
    {
      "cell_type": "code",
      "source": [
        "test_set = test_datagen.flow_from_directory('/content/drive/MyDrive/CovidDataset/Val/',\n",
        "     target_size=(224, 224), batch_size=32,class_mode='categorical', shuffle=False)"
      ],
      "metadata": {
        "colab": {
          "base_uri": "https://localhost:8080/"
        },
        "id": "hry8seotzaCO",
        "outputId": "cad2df8e-a99c-4b13-929b-0711412fc885"
      },
      "execution_count": null,
      "outputs": [
        {
          "output_type": "stream",
          "name": "stdout",
          "text": [
            "Found 60 images belonging to 2 classes.\n"
          ]
        }
      ]
    },
    {
      "cell_type": "markdown",
      "source": [
        "## Model building and fitting"
      ],
      "metadata": {
        "id": "-pwZc1TD4uL9"
      }
    },
    {
      "cell_type": "code",
      "source": [
        " model=keras.Sequential()\n",
        " model.add(Conv2D(input_shape=(224,224,3),filters=64,kernel_size=(3,3),padding=\"same\", activation=\"relu\"))\n",
        " model.add(Conv2D(filters=64,kernel_size=(3,3),padding=\"same\", activation=\"relu\"))\n",
        " model.add(MaxPool2D(pool_size=(2,2),strides=(2,2)))\n",
        " model.add(Conv2D(filters=128, kernel_size=(3,3), padding=\"same\", activation=\"relu\"))\n",
        " model.add(Conv2D(filters=128, kernel_size=(3,3), padding=\"same\", activation=\"relu\"))\n",
        " model.add(MaxPool2D(pool_size=(2,2),strides=(2,2)))\n",
        " model.add(Conv2D(filters=256, kernel_size=(3,3), padding=\"same\", activation=\"relu\"))\n",
        " model.add(Conv2D(filters=256, kernel_size=(3,3), padding=\"same\", activation=\"relu\"))\n",
        " model.add(Conv2D(filters=256, kernel_size=(3,3), padding=\"same\", activation=\"relu\"))\n",
        " model.add(MaxPool2D(pool_size=(2,2),strides=(2,2)))\n",
        " model.add(Conv2D(filters=512, kernel_size=(3,3), padding=\"same\", activation=\"relu\"))\n",
        " model.add(Conv2D(filters=512, kernel_size=(3,3), padding=\"same\", activation=\"relu\"))\n",
        " model.add(Conv2D(filters=512, kernel_size=(3,3), padding=\"same\", activation=\"relu\"))\n",
        " model.add(MaxPool2D(pool_size=(2,2),strides=(2,2)))\n",
        " model.add(Conv2D(filters=512, kernel_size=(3,3), padding=\"same\", activation=\"relu\"))\n",
        " model.add(Conv2D(filters=512, kernel_size=(3,3), padding=\"same\", activation=\"relu\"))\n",
        " model.add(Conv2D(filters=512, kernel_size=(3,3), padding=\"same\", activation=\"relu\"))\n",
        " model.add(MaxPool2D(pool_size=(2,2),strides=(2,2),name='vgg16'))\n",
        " model.add(Flatten(name='flatten'))\n",
        " model.add(Dense(4096, activation='relu', name='fc1'))\n",
        " model.add(Dense(4096, activation='relu', name='fc2'))\n",
        " model.add(Dense(2, activation='softmax', name='output'))"
      ],
      "metadata": {
        "id": "gZ5vQ-cQz1oO"
      },
      "execution_count": null,
      "outputs": []
    },
    {
      "cell_type": "code",
      "source": [
        "model.summary()"
      ],
      "metadata": {
        "colab": {
          "base_uri": "https://localhost:8080/"
        },
        "id": "rshsqhe_3d6T",
        "outputId": "223ba28b-4e3f-4d8b-ec15-4aed4242fb95"
      },
      "execution_count": null,
      "outputs": [
        {
          "output_type": "stream",
          "name": "stdout",
          "text": [
            "Model: \"sequential\"\n",
            "_________________________________________________________________\n",
            " Layer (type)                Output Shape              Param #   \n",
            "=================================================================\n",
            " conv2d (Conv2D)             (None, 224, 224, 64)      1792      \n",
            "                                                                 \n",
            " conv2d_1 (Conv2D)           (None, 224, 224, 64)      36928     \n",
            "                                                                 \n",
            " max_pooling2d (MaxPooling2D  (None, 112, 112, 64)     0         \n",
            " )                                                               \n",
            "                                                                 \n",
            " conv2d_2 (Conv2D)           (None, 112, 112, 128)     73856     \n",
            "                                                                 \n",
            " conv2d_3 (Conv2D)           (None, 112, 112, 128)     147584    \n",
            "                                                                 \n",
            " max_pooling2d_1 (MaxPooling  (None, 56, 56, 128)      0         \n",
            " 2D)                                                             \n",
            "                                                                 \n",
            " conv2d_4 (Conv2D)           (None, 56, 56, 256)       295168    \n",
            "                                                                 \n",
            " conv2d_5 (Conv2D)           (None, 56, 56, 256)       590080    \n",
            "                                                                 \n",
            " conv2d_6 (Conv2D)           (None, 56, 56, 256)       590080    \n",
            "                                                                 \n",
            " max_pooling2d_2 (MaxPooling  (None, 28, 28, 256)      0         \n",
            " 2D)                                                             \n",
            "                                                                 \n",
            " conv2d_7 (Conv2D)           (None, 28, 28, 512)       1180160   \n",
            "                                                                 \n",
            " conv2d_8 (Conv2D)           (None, 28, 28, 512)       2359808   \n",
            "                                                                 \n",
            " conv2d_9 (Conv2D)           (None, 28, 28, 512)       2359808   \n",
            "                                                                 \n",
            " max_pooling2d_3 (MaxPooling  (None, 14, 14, 512)      0         \n",
            " 2D)                                                             \n",
            "                                                                 \n",
            " conv2d_10 (Conv2D)          (None, 14, 14, 512)       2359808   \n",
            "                                                                 \n",
            " conv2d_11 (Conv2D)          (None, 14, 14, 512)       2359808   \n",
            "                                                                 \n",
            " conv2d_12 (Conv2D)          (None, 14, 14, 512)       2359808   \n",
            "                                                                 \n",
            " vgg16 (MaxPooling2D)        (None, 7, 7, 512)         0         \n",
            "                                                                 \n",
            " flatten (Flatten)           (None, 25088)             0         \n",
            "                                                                 \n",
            " fc1 (Dense)                 (None, 4096)              102764544 \n",
            "                                                                 \n",
            " fc2 (Dense)                 (None, 4096)              16781312  \n",
            "                                                                 \n",
            " output (Dense)              (None, 2)                 8194      \n",
            "                                                                 \n",
            "=================================================================\n",
            "Total params: 134,268,738\n",
            "Trainable params: 134,268,738\n",
            "Non-trainable params: 0\n",
            "_________________________________________________________________\n"
          ]
        }
      ]
    },
    {
      "cell_type": "code",
      "source": [
        "model.compile(loss=keras.losses.categorical_crossentropy, optimizer=\"sgd\", metrics=['accuracy'])\n",
        "\n",
        "results=model.fit( \n",
        "    train_set,  \n",
        "    epochs=10,\n",
        "    validation_data=test_set,steps_per_epoch=len(train_set),validation_steps=len(test_set),\n",
        "    callbacks=keras.callbacks.EarlyStopping(patience=3,restore_best_weights=True)      \n",
        "  )\n"
      ],
      "metadata": {
        "colab": {
          "base_uri": "https://localhost:8080/"
        },
        "id": "fn1l7_xR20TR",
        "outputId": "c5156748-468e-4465-c4b3-7f6039fe477a"
      },
      "execution_count": null,
      "outputs": [
        {
          "output_type": "stream",
          "name": "stdout",
          "text": [
            "Epoch 1/10\n",
            "7/7 [==============================] - 24s 2s/step - loss: 0.6988 - accuracy: 0.3571 - val_loss: 0.6925 - val_accuracy: 0.5000\n",
            "Epoch 2/10\n",
            "7/7 [==============================] - 9s 1s/step - loss: 0.6973 - accuracy: 0.2188 - val_loss: 0.6921 - val_accuracy: 0.7167\n",
            "Epoch 3/10\n",
            "7/7 [==============================] - 9s 1s/step - loss: 0.6969 - accuracy: 0.5045 - val_loss: 0.6917 - val_accuracy: 0.9500\n",
            "Epoch 4/10\n",
            "7/7 [==============================] - 9s 1s/step - loss: 0.6966 - accuracy: 0.5536 - val_loss: 0.6915 - val_accuracy: 0.9500\n",
            "Epoch 5/10\n",
            "7/7 [==============================] - 9s 1s/step - loss: 0.6962 - accuracy: 0.5580 - val_loss: 0.6912 - val_accuracy: 0.9333\n",
            "Epoch 6/10\n",
            "7/7 [==============================] - 8s 1s/step - loss: 0.6951 - accuracy: 0.5000 - val_loss: 0.6913 - val_accuracy: 0.5000\n",
            "Epoch 7/10\n",
            "7/7 [==============================] - 9s 1s/step - loss: 0.6962 - accuracy: 0.3661 - val_loss: 0.6908 - val_accuracy: 0.5833\n",
            "Epoch 8/10\n",
            "7/7 [==============================] - 9s 1s/step - loss: 0.6955 - accuracy: 0.5000 - val_loss: 0.6904 - val_accuracy: 0.9333\n",
            "Epoch 9/10\n",
            "7/7 [==============================] - 9s 1s/step - loss: 0.6952 - accuracy: 0.5000 - val_loss: 0.6903 - val_accuracy: 0.8333\n",
            "Epoch 10/10\n",
            "7/7 [==============================] - 9s 1s/step - loss: 0.6955 - accuracy: 0.4107 - val_loss: 0.6897 - val_accuracy: 0.9667\n"
          ]
        }
      ]
    },
    {
      "cell_type": "markdown",
      "source": [
        "## Results"
      ],
      "metadata": {
        "id": "gDswA9sY5C9H"
      }
    },
    {
      "cell_type": "code",
      "source": [
        "model.evaluate(test_set)"
      ],
      "metadata": {
        "colab": {
          "base_uri": "https://localhost:8080/"
        },
        "id": "FqCzyCER9SlD",
        "outputId": "4e944e0e-9611-46ac-de47-4521a535a50d"
      },
      "execution_count": null,
      "outputs": [
        {
          "output_type": "stream",
          "name": "stdout",
          "text": [
            "2/2 [==============================] - 2s 560ms/step - loss: 0.6897 - accuracy: 0.9667\n"
          ]
        },
        {
          "output_type": "execute_result",
          "data": {
            "text/plain": [
              "[0.689737856388092, 0.9666666388511658]"
            ]
          },
          "metadata": {},
          "execution_count": 9
        }
      ]
    },
    {
      "cell_type": "code",
      "source": [
        "model.save('/content/drive/MyDrive/SavedModels/vgg16_Covid19.h5')"
      ],
      "metadata": {
        "id": "v5P2MLm2AqNG"
      },
      "execution_count": null,
      "outputs": []
    },
    {
      "cell_type": "code",
      "source": [
        "y_pred= model.predict(test_set)\n",
        "y_pred"
      ],
      "metadata": {
        "colab": {
          "base_uri": "https://localhost:8080/"
        },
        "id": "OQd_FRQD944y",
        "outputId": "b920a29d-b9ae-410f-8642-40a6eb6e67b4"
      },
      "execution_count": null,
      "outputs": [
        {
          "output_type": "execute_result",
          "data": {
            "text/plain": [
              "array([[0.5018649 , 0.4981351 ],\n",
              "       [0.5025482 , 0.4974518 ],\n",
              "       [0.50184053, 0.4981595 ],\n",
              "       [0.50298166, 0.49701834],\n",
              "       [0.5023587 , 0.4976413 ],\n",
              "       [0.5025305 , 0.49746948],\n",
              "       [0.5031993 , 0.49680066],\n",
              "       [0.50189805, 0.49810192],\n",
              "       [0.5040472 , 0.4959528 ],\n",
              "       [0.5028866 , 0.4971134 ],\n",
              "       [0.5012515 , 0.49874848],\n",
              "       [0.503201  , 0.496799  ],\n",
              "       [0.5020464 , 0.49795356],\n",
              "       [0.501856  , 0.49814397],\n",
              "       [0.5027052 , 0.49729478],\n",
              "       [0.50018287, 0.4998171 ],\n",
              "       [0.5031624 , 0.4968376 ],\n",
              "       [0.5022691 , 0.4977309 ],\n",
              "       [0.50270444, 0.49729556],\n",
              "       [0.50301707, 0.496983  ],\n",
              "       [0.50259876, 0.49740124],\n",
              "       [0.5019709 , 0.49802908],\n",
              "       [0.50263864, 0.49736133],\n",
              "       [0.5022632 , 0.49773684],\n",
              "       [0.5030731 , 0.49692687],\n",
              "       [0.5025641 , 0.49743593],\n",
              "       [0.502178  , 0.49782193],\n",
              "       [0.50218564, 0.4978144 ],\n",
              "       [0.5029852 , 0.49701485],\n",
              "       [0.50072193, 0.49927807],\n",
              "       [0.49822593, 0.5017741 ],\n",
              "       [0.49822   , 0.50178003],\n",
              "       [0.49995628, 0.50004375],\n",
              "       [0.5006506 , 0.49934945],\n",
              "       [0.49887317, 0.5011268 ],\n",
              "       [0.49834442, 0.50165564],\n",
              "       [0.49828684, 0.50171316],\n",
              "       [0.49806583, 0.5019342 ],\n",
              "       [0.4991127 , 0.5008873 ],\n",
              "       [0.49911237, 0.50088763],\n",
              "       [0.49910754, 0.50089246],\n",
              "       [0.49842367, 0.50157636],\n",
              "       [0.4989115 , 0.5010885 ],\n",
              "       [0.49950385, 0.50049615],\n",
              "       [0.4982604 , 0.5017396 ],\n",
              "       [0.49884748, 0.5011525 ],\n",
              "       [0.4980583 , 0.50194174],\n",
              "       [0.49944526, 0.50055474],\n",
              "       [0.49885723, 0.5011428 ],\n",
              "       [0.49928418, 0.5007158 ],\n",
              "       [0.4994568 , 0.50054324],\n",
              "       [0.4994212 , 0.5005788 ],\n",
              "       [0.49907932, 0.50092065],\n",
              "       [0.4987206 , 0.5012794 ],\n",
              "       [0.49899408, 0.50100595],\n",
              "       [0.4981893 , 0.5018107 ],\n",
              "       [0.49784827, 0.5021517 ],\n",
              "       [0.49865088, 0.5013491 ],\n",
              "       [0.4996002 , 0.50039977],\n",
              "       [0.50170213, 0.49829784]], dtype=float32)"
            ]
          },
          "metadata": {},
          "execution_count": 10
        }
      ]
    },
    {
      "cell_type": "code",
      "source": [
        "import numpy as np\n",
        "y_pred1=np.argmax(y_pred,axis=1)\n",
        "y_pred1"
      ],
      "metadata": {
        "colab": {
          "base_uri": "https://localhost:8080/"
        },
        "id": "HP7QxV7D-Pb8",
        "outputId": "61b6ed61-98c9-48e0-e228-9d4694ac9c88"
      },
      "execution_count": null,
      "outputs": [
        {
          "output_type": "execute_result",
          "data": {
            "text/plain": [
              "array([0, 0, 0, 0, 0, 0, 0, 0, 0, 0, 0, 0, 0, 0, 0, 0, 0, 0, 0, 0, 0, 0,\n",
              "       0, 0, 0, 0, 0, 0, 0, 0, 1, 1, 1, 0, 1, 1, 1, 1, 1, 1, 1, 1, 1, 1,\n",
              "       1, 1, 1, 1, 1, 1, 1, 1, 1, 1, 1, 1, 1, 1, 1, 0])"
            ]
          },
          "metadata": {},
          "execution_count": 11
        }
      ]
    },
    {
      "cell_type": "code",
      "source": [
        "from sklearn.metrics import accuracy_score,  confusion_matrix\n",
        "print(confusion_matrix(test_set.labels,y_pred1))\n",
        "\n",
        "accuracy_score(test_set.labels,y_pred1)*100"
      ],
      "metadata": {
        "colab": {
          "base_uri": "https://localhost:8080/"
        },
        "id": "snVy-KrV91uI",
        "outputId": "4eb66a60-24f0-455a-9241-128829fe4685"
      },
      "execution_count": null,
      "outputs": [
        {
          "output_type": "stream",
          "name": "stdout",
          "text": [
            "[[30  0]\n",
            " [ 2 28]]\n"
          ]
        },
        {
          "output_type": "execute_result",
          "data": {
            "text/plain": [
              "96.66666666666667"
            ]
          },
          "metadata": {},
          "execution_count": 12
        }
      ]
    }
  ]
}