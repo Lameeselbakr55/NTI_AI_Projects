{
  "cells": [
    {
      "cell_type": "markdown",
      "metadata": {
        "id": "view-in-github",
        "colab_type": "text"
      },
      "source": [
        "<a href=\"https://colab.research.google.com/github/Lameeselbakr55/NTI_AI_Projects/blob/master/Decision_Tree_on_Breast_Cancer_Dataset.ipynb\" target=\"_parent\"><img src=\"https://colab.research.google.com/assets/colab-badge.svg\" alt=\"Open In Colab\"/></a>"
      ]
    },
    {
      "cell_type": "markdown",
      "source": [
        "#Decision Tree on Breast Cancer Dataset"
      ],
      "metadata": {
        "id": "892fmrT6pmZB"
      }
    },
    {
      "cell_type": "markdown",
      "source": [
        "##Loading and Preparing Data"
      ],
      "metadata": {
        "id": "Wq6hzgVdpvX3"
      }
    },
    {
      "cell_type": "code",
      "execution_count": null,
      "metadata": {
        "id": "rHjyhm7HvXsU"
      },
      "outputs": [],
      "source": [
        "from sklearn.datasets import load_breast_cancer # import breast_cancer data set from sklearn library\n",
        "from sklearn import tree \n",
        "from sklearn.tree  import  DecisionTreeClassifier   \n",
        "from   sklearn.metrics import  accuracy_score ,confusion_matrix                                                       "
      ]
    },
    {
      "cell_type": "code",
      "execution_count": null,
      "metadata": {
        "id": "tKF8rz8Y7QPq"
      },
      "outputs": [],
      "source": [
        "cancer=load_breast_cancer()\n",
        "X = cancer.data\n",
        "y = cancer.target"
      ]
    },
    {
      "cell_type": "code",
      "execution_count": null,
      "metadata": {
        "colab": {
          "base_uri": "https://localhost:8080/"
        },
        "id": "FKms19NijiO8",
        "outputId": "58b0ed4a-be2d-4304-f2ec-2bbbd3ca4a6d"
      },
      "outputs": [
        {
          "data": {
            "text/plain": [
              "(569, 30)"
            ]
          },
          "execution_count": 3,
          "metadata": {},
          "output_type": "execute_result"
        }
      ],
      "source": [
        "X.shape"
      ]
    },
    {
      "cell_type": "code",
      "execution_count": null,
      "metadata": {
        "colab": {
          "base_uri": "https://localhost:8080/"
        },
        "id": "sS0V3yZyjzwv",
        "outputId": "cd7bfcf3-78b6-4de0-d012-85073a83b776"
      },
      "outputs": [
        {
          "data": {
            "text/plain": [
              "array([0, 0, 0, 0, 0, 0, 0, 0, 0, 0, 0, 0, 0, 0, 0, 0, 0, 0, 0, 1, 1, 1,\n",
              "       0, 0, 0, 0, 0, 0, 0, 0, 0, 0, 0, 0, 0, 0, 0, 1, 0, 0, 0, 0, 0, 0,\n",
              "       0, 0, 1, 0, 1])"
            ]
          },
          "execution_count": 4,
          "metadata": {},
          "output_type": "execute_result"
        }
      ],
      "source": [
        "y[0:49]"
      ]
    },
    {
      "cell_type": "code",
      "execution_count": null,
      "metadata": {
        "id": "JsBiFGUeMioD"
      },
      "outputs": [],
      "source": [
        "from sklearn.model_selection import train_test_split \n",
        "X_train, X_test, y_train, y_test= train_test_split(X, y,test_size=0.4, random_state =33)                       \n"
      ]
    },
    {
      "cell_type": "markdown",
      "source": [
        "##Model Fitting"
      ],
      "metadata": {
        "id": "rSpMGFD5p1c2"
      }
    },
    {
      "cell_type": "code",
      "execution_count": null,
      "metadata": {
        "colab": {
          "base_uri": "https://localhost:8080/"
        },
        "id": "uv5wygPlV-Tc",
        "outputId": "3ef964c2-b0d6-4b12-973b-58b8f86087a2"
      },
      "outputs": [
        {
          "data": {
            "text/plain": [
              "DecisionTreeClassifier(max_depth=3)"
            ]
          },
          "execution_count": 6,
          "metadata": {},
          "output_type": "execute_result"
        }
      ],
      "source": [
        "DTR=DecisionTreeClassifier(max_depth=3)\n",
        "\n",
        "DTR.fit(X_train,y_train)"
      ]
    },
    {
      "cell_type": "code",
      "execution_count": null,
      "metadata": {
        "colab": {
          "base_uri": "https://localhost:8080/"
        },
        "id": "E5ApxyhOW-D7",
        "outputId": "719dded3-a2e3-4b8f-947b-be92efbd8ac3"
      },
      "outputs": [
        {
          "data": {
            "text/plain": [
              "array([0, 1])"
            ]
          },
          "execution_count": 8,
          "metadata": {},
          "output_type": "execute_result"
        }
      ],
      "source": [
        "DTR.classes_"
      ]
    },
    {
      "cell_type": "code",
      "execution_count": null,
      "metadata": {
        "colab": {
          "base_uri": "https://localhost:8080/"
        },
        "id": "zsN3V6jGmQij",
        "outputId": "0a523ac3-414e-4e86-c9b6-a576e9740a85"
      },
      "outputs": [
        {
          "data": {
            "text/plain": [
              "['malignant', 'benign']"
            ]
          },
          "execution_count": 19,
          "metadata": {},
          "output_type": "execute_result"
        }
      ],
      "source": [
        "list(cancer.target_names)\n",
        "#cancer.target_names"
      ]
    },
    {
      "cell_type": "code",
      "execution_count": null,
      "metadata": {
        "colab": {
          "base_uri": "https://localhost:8080/"
        },
        "id": "lMZlKkB2nOZF",
        "outputId": "b13f7bb2-3228-4586-e3b1-a7830981fef3"
      },
      "outputs": [
        {
          "data": {
            "text/plain": [
              "array([0, 0, 0, 1])"
            ]
          },
          "execution_count": 11,
          "metadata": {},
          "output_type": "execute_result"
        }
      ],
      "source": [
        "cancer.target[[5,10,25,50]]"
      ]
    },
    {
      "cell_type": "code",
      "execution_count": null,
      "metadata": {
        "colab": {
          "base_uri": "https://localhost:8080/"
        },
        "id": "Q0B2GqOnnpZF",
        "outputId": "ebf11453-1cdd-4db0-9572-059fd628ccd2"
      },
      "outputs": [
        {
          "data": {
            "text/plain": [
              "array([0, 0, 0, 1])"
            ]
          },
          "execution_count": 10,
          "metadata": {},
          "output_type": "execute_result"
        }
      ],
      "source": [
        "y[[5,10,25,50]]"
      ]
    },
    {
      "cell_type": "markdown",
      "source": [
        "##Results"
      ],
      "metadata": {
        "id": "EGEL92fpqMpm"
      }
    },
    {
      "cell_type": "code",
      "execution_count": null,
      "metadata": {
        "id": "4gOewVxel7V7"
      },
      "outputs": [],
      "source": [
        "y_pred=DTR.predict(X_test)\n"
      ]
    },
    {
      "cell_type": "code",
      "execution_count": null,
      "metadata": {
        "colab": {
          "base_uri": "https://localhost:8080/"
        },
        "id": "1xtI4s6MkrOv",
        "outputId": "e4247246-713b-49a8-cd30-1163930ab0b0"
      },
      "outputs": [
        {
          "data": {
            "text/plain": [
              "0.9166666666666666"
            ]
          },
          "execution_count": 15,
          "metadata": {},
          "output_type": "execute_result"
        }
      ],
      "source": [
        "accuracy = accuracy_score(y_test, y_pred)\n",
        "accuracy\n"
      ]
    },
    {
      "cell_type": "code",
      "execution_count": null,
      "metadata": {
        "colab": {
          "base_uri": "https://localhost:8080/"
        },
        "id": "Le8KwqlUnp9X",
        "outputId": "44215739-9972-4306-d03f-da5bdc22fcf6"
      },
      "outputs": [
        {
          "name": "stdout",
          "output_type": "stream",
          "text": [
            "[[ 77   6]\n",
            " [ 13 132]]\n"
          ]
        }
      ],
      "source": [
        "print(confusion_matrix(y_test, y_pred))"
      ]
    }
  ],
  "metadata": {
    "colab": {
      "collapsed_sections": [],
      "name": "Decision Tree on Breast Cancer Dataset.ipynb",
      "provenance": [],
      "include_colab_link": true
    },
    "kernelspec": {
      "display_name": "Python 3 (ipykernel)",
      "language": "python",
      "name": "python3"
    },
    "language_info": {
      "codemirror_mode": {
        "name": "ipython",
        "version": 3
      },
      "file_extension": ".py",
      "mimetype": "text/x-python",
      "name": "python",
      "nbconvert_exporter": "python",
      "pygments_lexer": "ipython3",
      "version": "3.9.12"
    }
  },
  "nbformat": 4,
  "nbformat_minor": 0
}