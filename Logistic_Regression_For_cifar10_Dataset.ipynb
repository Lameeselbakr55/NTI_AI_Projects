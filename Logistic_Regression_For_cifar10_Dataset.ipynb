{
  "cells": [
    {
      "cell_type": "markdown",
      "metadata": {
        "id": "view-in-github",
        "colab_type": "text"
      },
      "source": [
        "<a href=\"https://colab.research.google.com/github/Lameeselbakr55/NTI_AI_Projects/blob/master/Logistic_Regression_For_cifar10_Dataset.ipynb\" target=\"_parent\"><img src=\"https://colab.research.google.com/assets/colab-badge.svg\" alt=\"Open In Colab\"/></a>"
      ]
    },
    {
      "cell_type": "markdown",
      "source": [
        "#Logistic Regression For cifar10 Dataset"
      ],
      "metadata": {
        "id": "k5ursSsFVuLz"
      }
    },
    {
      "cell_type": "markdown",
      "source": [
        "##Load and Prepare Data"
      ],
      "metadata": {
        "id": "sIg8RI2iV5Fz"
      }
    },
    {
      "cell_type": "code",
      "execution_count": null,
      "metadata": {
        "id": "Sb9KJ0rm89_b"
      },
      "outputs": [],
      "source": [
        "import keras\n",
        "from keras.datasets import cifar10"
      ]
    },
    {
      "cell_type": "code",
      "execution_count": null,
      "metadata": {
        "colab": {
          "base_uri": "https://localhost:8080/"
        },
        "id": "85mz9-I1-bg6",
        "outputId": "7b27ac37-3a6d-44e2-dfda-f8d9a58125fc"
      },
      "outputs": [
        {
          "name": "stdout",
          "output_type": "stream",
          "text": [
            "Downloading data from https://www.cs.toronto.edu/~kriz/cifar-10-python.tar.gz\n",
            "170500096/170498071 [==============================] - 19s 0us/step\n",
            "170508288/170498071 [==============================] - 19s 0us/step\n"
          ]
        }
      ],
      "source": [
        "(x_train, y_train), (x_test, y_test) = cifar10.load_data()\n"
      ]
    },
    {
      "cell_type": "code",
      "execution_count": null,
      "metadata": {
        "colab": {
          "base_uri": "https://localhost:8080/"
        },
        "id": "B9tYiuWW-93R",
        "outputId": "3941edc9-4128-492e-d3ee-c8afe1080c7c"
      },
      "outputs": [
        {
          "data": {
            "text/plain": [
              "(50000, 32, 32, 3)"
            ]
          },
          "execution_count": 33,
          "metadata": {},
          "output_type": "execute_result"
        }
      ],
      "source": [
        "x_train.shape"
      ]
    },
    {
      "cell_type": "code",
      "execution_count": null,
      "metadata": {
        "colab": {
          "base_uri": "https://localhost:8080/"
        },
        "id": "HAjgxgC8_DE-",
        "outputId": "2e5fcd11-c9df-43a3-9cd6-c9888ffd29c6"
      },
      "outputs": [
        {
          "data": {
            "text/plain": [
              "(50000, 1)"
            ]
          },
          "execution_count": 34,
          "metadata": {},
          "output_type": "execute_result"
        }
      ],
      "source": [
        "y_train.shape"
      ]
    },
    {
      "cell_type": "code",
      "execution_count": null,
      "metadata": {
        "colab": {
          "base_uri": "https://localhost:8080/"
        },
        "id": "2uE9Nj_I_G0A",
        "outputId": "9d9b930c-4510-4eb7-d853-49293b3d0fca"
      },
      "outputs": [
        {
          "data": {
            "text/plain": [
              "(10000, 32, 32, 3)"
            ]
          },
          "execution_count": 35,
          "metadata": {},
          "output_type": "execute_result"
        }
      ],
      "source": [
        "x_test.shape"
      ]
    },
    {
      "cell_type": "code",
      "execution_count": null,
      "metadata": {
        "colab": {
          "base_uri": "https://localhost:8080/"
        },
        "id": "GQph_TML_R-v",
        "outputId": "e0ade2b1-c6eb-4e79-eefe-16374d743d73"
      },
      "outputs": [
        {
          "data": {
            "text/plain": [
              "3072"
            ]
          },
          "execution_count": 36,
          "metadata": {},
          "output_type": "execute_result"
        }
      ],
      "source": [
        "32*32*3"
      ]
    },
    {
      "cell_type": "code",
      "execution_count": null,
      "metadata": {
        "colab": {
          "base_uri": "https://localhost:8080/"
        },
        "id": "SgPs7J5EAn7R",
        "outputId": "3282b8d8-7002-44d5-cde1-87753dd8d85e"
      },
      "outputs": [
        {
          "data": {
            "text/plain": [
              "(50000, 3072)"
            ]
          },
          "execution_count": 37,
          "metadata": {},
          "output_type": "execute_result"
        }
      ],
      "source": [
        "x_train_final = x_train.reshape((-1, 3072))\n",
        "x_train_final.shape"
      ]
    },
    {
      "cell_type": "code",
      "execution_count": null,
      "metadata": {
        "colab": {
          "base_uri": "https://localhost:8080/"
        },
        "id": "XtSIbi8ABfja",
        "outputId": "5670d4ae-a617-42db-fb7c-5351dae6fb0b"
      },
      "outputs": [
        {
          "data": {
            "text/plain": [
              "(10000, 3072)"
            ]
          },
          "execution_count": 38,
          "metadata": {},
          "output_type": "execute_result"
        }
      ],
      "source": [
        "x_test_final = x_test.reshape((-1, 3072))\n",
        "x_test_final.shape"
      ]
    },
    {
      "cell_type": "markdown",
      "source": [
        "##Model Fitting"
      ],
      "metadata": {
        "id": "s_zi9XABV_ba"
      }
    },
    {
      "cell_type": "code",
      "execution_count": null,
      "metadata": {
        "id": "c1BurXisB7Dx"
      },
      "outputs": [],
      "source": [
        "model = keras.Sequential()\n",
        "model.add(keras.layers.Dense(10, input_shape=(3072,), activation='softmax'))\n",
        "model.compile(optimizer='sgd', loss='sparse_categorical_crossentropy', metrics=['accuracy'])\n"
      ]
    },
    {
      "cell_type": "code",
      "execution_count": null,
      "metadata": {
        "colab": {
          "base_uri": "https://localhost:8080/"
        },
        "id": "EVGj0KpnFkG1",
        "outputId": "4ab73e7c-f90c-48b8-9963-9b2844abd47b"
      },
      "outputs": [
        {
          "name": "stdout",
          "output_type": "stream",
          "text": [
            "Epoch 1/10\n",
            "1563/1563 [==============================] - 4s 2ms/step - loss: 85536.2109 - accuracy: 0.2128 - val_loss: 61618.6172 - val_accuracy: 0.2428\n",
            "Epoch 2/10\n",
            "1563/1563 [==============================] - 4s 2ms/step - loss: 71914.1094 - accuracy: 0.2414 - val_loss: 134425.8281 - val_accuracy: 0.1710\n",
            "Epoch 3/10\n",
            "1563/1563 [==============================] - 4s 2ms/step - loss: 69678.5156 - accuracy: 0.2485 - val_loss: 64169.5547 - val_accuracy: 0.2472\n",
            "Epoch 4/10\n",
            "1563/1563 [==============================] - 4s 2ms/step - loss: 69372.2969 - accuracy: 0.2564 - val_loss: 59291.9922 - val_accuracy: 0.2708\n",
            "Epoch 5/10\n",
            "1563/1563 [==============================] - 4s 2ms/step - loss: 67064.3828 - accuracy: 0.2587 - val_loss: 61546.3672 - val_accuracy: 0.2800\n",
            "Epoch 6/10\n",
            "1563/1563 [==============================] - 4s 2ms/step - loss: 67003.2188 - accuracy: 0.2614 - val_loss: 84663.0078 - val_accuracy: 0.1730\n",
            "Epoch 7/10\n",
            "1563/1563 [==============================] - 4s 2ms/step - loss: 65725.9844 - accuracy: 0.2631 - val_loss: 108645.0312 - val_accuracy: 0.1941\n",
            "Epoch 8/10\n",
            "1563/1563 [==============================] - 4s 3ms/step - loss: 65576.5781 - accuracy: 0.2656 - val_loss: 74597.5156 - val_accuracy: 0.1859\n",
            "Epoch 9/10\n",
            "1563/1563 [==============================] - 4s 2ms/step - loss: 64515.5391 - accuracy: 0.2686 - val_loss: 99958.4375 - val_accuracy: 0.1937\n",
            "Epoch 10/10\n",
            "1563/1563 [==============================] - 4s 2ms/step - loss: 65027.9062 - accuracy: 0.2691 - val_loss: 63323.5312 - val_accuracy: 0.2171\n"
          ]
        }
      ],
      "source": [
        "resluts = model.fit(\n",
        "  x=x_train_final,\n",
        "  y=y_train,\n",
        "  shuffle=True,\n",
        "  epochs=10,\n",
        "  batch_size=32,\n",
        "  validation_data = (x_test_final,y_test)\n",
        ")\n"
      ]
    },
    {
      "cell_type": "markdown",
      "source": [
        "##Results"
      ],
      "metadata": {
        "id": "4bULTp5KWDyE"
      }
    },
    {
      "cell_type": "code",
      "execution_count": null,
      "metadata": {
        "colab": {
          "base_uri": "https://localhost:8080/",
          "height": 313
        },
        "id": "ltLwFS1WGHEL",
        "outputId": "fac528f4-6ec9-44a9-b1af-b5e5fd6d825c"
      },
      "outputs": [
        {
          "data": {
            "text/plain": [
              "Text(0.5, 0, 'epoch')"
            ]
          },
          "execution_count": 41,
          "metadata": {},
          "output_type": "execute_result"
        },
        {
          "data": {
            "image/png": "[encoded data removed]",
            "text/plain": [
              "<Figure size 432x288 with 1 Axes>"
            ]
          },
          "metadata": {
            "needs_background": "light"
          },
          "output_type": "display_data"
        }
      ],
      "source": [
        "import matplotlib.pyplot as plt\n",
        "\n",
        "plt.plot(resluts.history['loss'])\n",
        "plt.plot(resluts.history['val_loss'])\n",
        "plt.legend(['Training', 'Validation'])\n",
        "plt.title('Training and Validation losses')\n",
        "plt.xlabel('epoch')\n"
      ]
    },
    {
      "cell_type": "code",
      "execution_count": null,
      "metadata": {
        "colab": {
          "base_uri": "https://localhost:8080/",
          "height": 313
        },
        "id": "ngftCmkbKvYf",
        "outputId": "71a6d61f-3ef9-4eee-ffe6-0adeae12ba07"
      },
      "outputs": [
        {
          "data": {
            "text/plain": [
              "Text(0.5, 0, 'epoch')"
            ]
          },
          "execution_count": 42,
          "metadata": {},
          "output_type": "execute_result"
        },
        {
          "data": {
            "image/png": "[encoded data removed]",
            "text/plain": [
              "<Figure size 432x288 with 1 Axes>"
            ]
          },
          "metadata": {
            "needs_background": "light"
          },
          "output_type": "display_data"
        }
      ],
      "source": [
        "plt.plot(resluts.history['accuracy'])\n",
        "plt.plot(resluts.history['val_accuracy'])\n",
        "plt.legend(['Training', 'Validation'])\n",
        "plt.title('Training and Validation accuracy')\n",
        "plt.xlabel('epoch')\n"
      ]
    },
    {
      "cell_type": "code",
      "execution_count": null,
      "metadata": {
        "colab": {
          "base_uri": "https://localhost:8080/"
        },
        "id": "PxztfZ_fGIdb",
        "outputId": "cd12c539-faa9-4948-f550-2ef2ac2fab87"
      },
      "outputs": [
        {
          "name": "stdout",
          "output_type": "stream",
          "text": [
            "Model: \"sequential\"\n",
            "_________________________________________________________________\n",
            " Layer (type)                Output Shape              Param #   \n",
            "=================================================================\n",
            " dense (Dense)               (None, 10)                7850      \n",
            "                                                                 \n",
            "=================================================================\n",
            "Total params: 7,850\n",
            "Trainable params: 7,850\n",
            "Non-trainable params: 0\n",
            "_________________________________________________________________\n"
          ]
        }
      ],
      "source": [
        "model.summary()\n"
      ]
    }
  ],
  "metadata": {
    "accelerator": "GPU",
    "colab": {
      "name": "Logistic Regression For cifar10 Dataset.ipynb",
      "provenance": [],
      "collapsed_sections": [],
      "include_colab_link": true
    },
    "kernelspec": {
      "display_name": "Python 3 (ipykernel)",
      "language": "python",
      "name": "python3"
    },
    "language_info": {
      "codemirror_mode": {
        "name": "ipython",
        "version": 3
      },
      "file_extension": ".py",
      "mimetype": "text/x-python",
      "name": "python",
      "nbconvert_exporter": "python",
      "pygments_lexer": "ipython3",
      "version": "3.9.12"
    }
  },
  "nbformat": 4,
  "nbformat_minor": 0
}