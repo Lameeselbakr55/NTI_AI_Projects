{
  "nbformat": 4,
  "nbformat_minor": 0,
  "metadata": {
    "colab": {
      "name": "MNITS CNN V3.ipynb",
      "provenance": [],
      "collapsed_sections": [],
      "include_colab_link": true
    },
    "kernelspec": {
      "name": "python3",
      "display_name": "Python 3"
    },
    "language_info": {
      "name": "python"
    }
  },
  "cells": [
    {
      "cell_type": "markdown",
      "metadata": {
        "id": "view-in-github",
        "colab_type": "text"
      },
      "source": [
        "<a href=\"https://colab.research.google.com/github/Lameeselbakr55/NTI_AI_Projects/blob/master/MNITS_CNN_V3.ipynb\" target=\"_parent\"><img src=\"https://colab.research.google.com/assets/colab-badge.svg\" alt=\"Open In Colab\"/></a>"
      ]
    },
    {
      "cell_type": "markdown",
      "source": [
        "#MNIST CNN V3\n"
      ],
      "metadata": {
        "id": "zzzD-p84zZbd"
      }
    },
    {
      "cell_type": "markdown",
      "source": [
        "##Load and prepare Data"
      ],
      "metadata": {
        "id": "JH8_mK776msC"
      }
    },
    {
      "cell_type": "code",
      "metadata": {
        "id": "HD2Rk-ZDSMVx"
      },
      "source": [
        "from tensorflow import keras\n",
        "from keras.layers import Input, Dense, Dropout,Conv2D, AvgPool2D, Flatten\n",
        "from tensorflow.keras import  datasets\n",
        "from matplotlib import pyplot as plt\n"
      ],
      "execution_count": null,
      "outputs": []
    },
    {
      "cell_type": "code",
      "source": [
        "(x_train, y_train), (x_test, y_test) = datasets.mnist.load_data()"
      ],
      "metadata": {
        "id": "6V3cDL4G4WMF",
        "colab": {
          "base_uri": "https://localhost:8080/"
        },
        "outputId": "edbbede5-6733-441c-c80e-d21a1da66448"
      },
      "execution_count": null,
      "outputs": [
        {
          "output_type": "stream",
          "name": "stdout",
          "text": [
            "Downloading data from https://storage.googleapis.com/tensorflow/tf-keras-datasets/mnist.npz\n",
            "11493376/11490434 [==============================] - 0s 0us/step\n",
            "11501568/11490434 [==============================] - 0s 0us/step\n"
          ]
        }
      ]
    },
    {
      "cell_type": "code",
      "source": [
        "plt.imshow(x_train[7],cmap=\"gray\")\n",
        "print(y_train[7])"
      ],
      "metadata": {
        "colab": {
          "base_uri": "https://localhost:8080/",
          "height": 283
        },
        "id": "Vq0Ewpop3T6t",
        "outputId": "5e94329c-752e-4725-d974-fda88c650ec1"
      },
      "execution_count": null,
      "outputs": [
        {
          "output_type": "stream",
          "name": "stdout",
          "text": [
            "3\n"
          ]
        },
        {
          "output_type": "display_data",
          "data": {
            "text/plain": [
              "<Figure size 432x288 with 1 Axes>"
            ],
            "image/png": "[encoded data removed]"
          },
          "metadata": {
            "needs_background": "light"
          }
        }
      ]
    },
    {
      "cell_type": "code",
      "source": [
        "y_test1=y_test\n"
      ],
      "metadata": {
        "id": "zlk1hp99T2Y9"
      },
      "execution_count": null,
      "outputs": []
    },
    {
      "cell_type": "code",
      "source": [
        "#Convert the labels into one-hot codes.\n",
        "num_classes = 10\n",
        "y_train = keras.utils.to_categorical(y_train, num_classes)\n",
        "y_test = keras.utils.to_categorical(y_test, num_classes)\n",
        "print(y_train[7])"
      ],
      "metadata": {
        "colab": {
          "base_uri": "https://localhost:8080/"
        },
        "id": "SYay648d3REP",
        "outputId": "b37de82b-ae15-4497-a8de-c90297cd6bd0"
      },
      "execution_count": null,
      "outputs": [
        {
          "output_type": "stream",
          "name": "stdout",
          "text": [
            "[0. 0. 0. 1. 0. 0. 0. 0. 0. 0.]\n"
          ]
        }
      ]
    },
    {
      "cell_type": "code",
      "metadata": {
        "id": "vt9t37WrhWy8"
      },
      "source": [
        "#Normalize image pixel values.\n",
        "x_train = x_train/255\n",
        "x_test = x_test/255"
      ],
      "execution_count": null,
      "outputs": []
    },
    {
      "cell_type": "markdown",
      "source": [
        "##Model Fitting"
      ],
      "metadata": {
        "id": "2X6v1_Ty62Qk"
      }
    },
    {
      "cell_type": "code",
      "metadata": {
        "colab": {
          "base_uri": "https://localhost:8080/"
        },
        "id": "ORom-RTJZ-kp",
        "outputId": "340421ae-ea39-4d27-c539-8e7d8ca97e4f"
      },
      "source": [
        "model=keras.Sequential() #Create a network sequence.\n",
        "model.add(Input(shape=(28,28,1)))\n",
        "model.add(Conv2D(filters=6,kernel_size = 5,strides = (1,1), padding = 'same',activation = 'relu'))\n",
        "#model.add(Conv2D(filters=6,kernel_size = 5,strides = (1,1), padding = 'same',activation = 'relu',input_shape = (28,28,1)))\n",
        "model.add(AvgPool2D(pool_size=(2,2), strides = (2,2), padding = 'valid'))\n",
        "\n",
        "model.add(Conv2D(filters=6,kernel_size = 5,strides = (1,1), padding = 'same',activation = 'relu'))\n",
        "model.add(AvgPool2D(pool_size=(2,2), strides = (2,2), padding = 'valid'))\n",
        "\n",
        "model.add(Conv2D(filters=16,kernel_size = 3,strides = (1,1),padding = 'same',activation = 'relu'))\n",
        "model.add(AvgPool2D(pool_size=(2,2), strides = (2,2), padding = 'valid'))\n",
        "\n",
        "\n",
        "model.add(Flatten())\n",
        "model.add(Dense(84,activation = 'relu'))\n",
        "model.add(Dense(10,activation = 'softmax'))\n",
        "\n",
        "model.summary()"
      ],
      "execution_count": null,
      "outputs": [
        {
          "output_type": "stream",
          "name": "stdout",
          "text": [
            "Model: \"sequential\"\n",
            "_________________________________________________________________\n",
            " Layer (type)                Output Shape              Param #   \n",
            "=================================================================\n",
            " conv2d (Conv2D)             (None, 28, 28, 6)         156       \n",
            "                                                                 \n",
            " average_pooling2d (AverageP  (None, 14, 14, 6)        0         \n",
            " ooling2D)                                                       \n",
            "                                                                 \n",
            " conv2d_1 (Conv2D)           (None, 14, 14, 6)         906       \n",
            "                                                                 \n",
            " average_pooling2d_1 (Averag  (None, 7, 7, 6)          0         \n",
            " ePooling2D)                                                     \n",
            "                                                                 \n",
            " conv2d_2 (Conv2D)           (None, 7, 7, 16)          880       \n",
            "                                                                 \n",
            " average_pooling2d_2 (Averag  (None, 3, 3, 16)         0         \n",
            " ePooling2D)                                                     \n",
            "                                                                 \n",
            " flatten (Flatten)           (None, 144)               0         \n",
            "                                                                 \n",
            " dense (Dense)               (None, 84)                12180     \n",
            "                                                                 \n",
            " dense_1 (Dense)             (None, 10)                850       \n",
            "                                                                 \n",
            "=================================================================\n",
            "Total params: 14,972\n",
            "Trainable params: 14,972\n",
            "Non-trainable params: 0\n",
            "_________________________________________________________________\n"
          ]
        }
      ]
    },
    {
      "cell_type": "code",
      "metadata": {
        "id": "skMSXinVhSPV",
        "colab": {
          "base_uri": "https://localhost:8080/"
        },
        "outputId": "64eb2e37-4a08-48c3-ef9f-1288e769d7d1"
      },
      "source": [
        "model.compile(optimizer='Adam',loss=\"categorical_crossentropy\",metrics=['accuracy']) \n",
        "#model.compile(optimizer=keras.optimizers.Adam(),loss=\"categorical_crossentropy\",metrics=['accuracy']) \n",
        "results= model.fit(x_train,y_train,epochs=10,batch_size=128,validation_data=(x_test, y_test))\n",
        "\n"
      ],
      "execution_count": null,
      "outputs": [
        {
          "output_type": "stream",
          "name": "stdout",
          "text": [
            "Epoch 1/10\n",
            "469/469 [==============================] - 41s 85ms/step - loss: 0.5935 - accuracy: 0.8116 - val_loss: 0.2177 - val_accuracy: 0.9293\n",
            "Epoch 2/10\n",
            "469/469 [==============================] - 41s 87ms/step - loss: 0.1756 - accuracy: 0.9474 - val_loss: 0.1151 - val_accuracy: 0.9638\n",
            "Epoch 3/10\n",
            "469/469 [==============================] - 41s 87ms/step - loss: 0.1311 - accuracy: 0.9608 - val_loss: 0.0904 - val_accuracy: 0.9721\n",
            "Epoch 4/10\n",
            "469/469 [==============================] - 41s 87ms/step - loss: 0.1111 - accuracy: 0.9666 - val_loss: 0.0912 - val_accuracy: 0.9722\n",
            "Epoch 5/10\n",
            "469/469 [==============================] - 41s 87ms/step - loss: 0.0973 - accuracy: 0.9701 - val_loss: 0.0710 - val_accuracy: 0.9769\n",
            "Epoch 6/10\n",
            "469/469 [==============================] - 43s 93ms/step - loss: 0.0901 - accuracy: 0.9722 - val_loss: 0.0688 - val_accuracy: 0.9776\n",
            "Epoch 7/10\n",
            "469/469 [==============================] - 41s 88ms/step - loss: 0.0810 - accuracy: 0.9753 - val_loss: 0.0607 - val_accuracy: 0.9809\n",
            "Epoch 8/10\n",
            "469/469 [==============================] - 41s 88ms/step - loss: 0.0760 - accuracy: 0.9763 - val_loss: 0.0548 - val_accuracy: 0.9820\n",
            "Epoch 9/10\n",
            "469/469 [==============================] - 41s 88ms/step - loss: 0.0706 - accuracy: 0.9785 - val_loss: 0.0525 - val_accuracy: 0.9828\n",
            "Epoch 10/10\n",
            "469/469 [==============================] - 41s 88ms/step - loss: 0.0666 - accuracy: 0.9793 - val_loss: 0.0465 - val_accuracy: 0.9846\n"
          ]
        }
      ]
    },
    {
      "cell_type": "markdown",
      "source": [
        "##Results"
      ],
      "metadata": {
        "id": "G4WCwrFl6-d-"
      }
    },
    {
      "cell_type": "code",
      "metadata": {
        "id": "eQsuIhTzk3fE",
        "colab": {
          "base_uri": "https://localhost:8080/"
        },
        "outputId": "d36afcff-0850-4a23-88d6-42c6ea7acf15"
      },
      "source": [
        "score = model.evaluate(x_test, y_test)\n"
      ],
      "execution_count": null,
      "outputs": [
        {
          "output_type": "stream",
          "name": "stdout",
          "text": [
            "313/313 [==============================] - 4s 12ms/step - loss: 0.0465 - accuracy: 0.9846\n"
          ]
        }
      ]
    },
    {
      "cell_type": "code",
      "source": [
        "y_pred=model.predict(x_test)\n",
        "y_pred.shape"
      ],
      "metadata": {
        "id": "TUeeh76-boj7",
        "colab": {
          "base_uri": "https://localhost:8080/"
        },
        "outputId": "edab4ae1-993f-4b1f-ad75-0e8a5bc62a8b"
      },
      "execution_count": null,
      "outputs": [
        {
          "output_type": "execute_result",
          "data": {
            "text/plain": [
              "(10000, 10)"
            ]
          },
          "metadata": {},
          "execution_count": 10
        }
      ]
    },
    {
      "cell_type": "code",
      "source": [
        "import numpy as np\n",
        "from numpy import argmax\n",
        "y_pred1=argmax(y_pred,axis=1)"
      ],
      "metadata": {
        "id": "RiaaNEJbhUFI"
      },
      "execution_count": null,
      "outputs": []
    },
    {
      "cell_type": "code",
      "source": [
        "x_test.shape"
      ],
      "metadata": {
        "colab": {
          "base_uri": "https://localhost:8080/"
        },
        "id": "tzVAJzBizHxK",
        "outputId": "4c362e70-25c0-419e-ef84-e9283a654232"
      },
      "execution_count": null,
      "outputs": [
        {
          "output_type": "execute_result",
          "data": {
            "text/plain": [
              "(10000, 28, 28)"
            ]
          },
          "metadata": {},
          "execution_count": 12
        }
      ]
    },
    {
      "cell_type": "code",
      "source": [
        "plt.imshow(x_test[503],cmap=\"gray\")\n",
        "print(y_pred[503])\n",
        "print(y_pred1[503])"
      ],
      "metadata": {
        "colab": {
          "base_uri": "https://localhost:8080/",
          "height": 338
        },
        "id": "MDYonRGogviR",
        "outputId": "6646370b-46f7-4db9-a5ed-ff333963da26"
      },
      "execution_count": null,
      "outputs": [
        {
          "output_type": "stream",
          "name": "stdout",
          "text": [
            "[2.48387717e-11 5.10281433e-13 1.00000000e+00 8.94330096e-11\n",
            " 1.03484233e-21 3.03707865e-17 1.33656805e-20 2.93589902e-10\n",
            " 2.08798812e-10 8.76489689e-20]\n",
            "2\n"
          ]
        },
        {
          "output_type": "display_data",
          "data": {
            "text/plain": [
              "<Figure size 432x288 with 1 Axes>"
            ],
            "image/png": "[encoded data removed]"
          },
          "metadata": {
            "needs_background": "light"
          }
        }
      ]
    },
    {
      "cell_type": "code",
      "source": [
        "from sklearn.metrics import accuracy_score,confusion_matrix\n",
        "print(confusion_matrix(y_pred1,y_test1))\n",
        "print(accuracy_score(y_pred1,y_test1))\n"
      ],
      "metadata": {
        "colab": {
          "base_uri": "https://localhost:8080/"
        },
        "id": "7qBHSKgNihD7",
        "outputId": "f663b078-ebc2-46f7-a208-b9a765fe0cf1"
      },
      "execution_count": null,
      "outputs": [
        {
          "output_type": "stream",
          "name": "stdout",
          "text": [
            "[[ 970    0    3    0    0    1    5    2    3    2]\n",
            " [   0 1127    0    0    0    0    1    2    0    3]\n",
            " [   0    3 1012    1    0    0    0    4    0    0]\n",
            " [   0    0    0  999    0    9    0    4    4    4]\n",
            " [   1    0    0    0  967    0    2    1    1    5]\n",
            " [   0    0    0    1    0  874    1    0    1    0]\n",
            " [   4    1    0    0    3    2  945    0    2    0]\n",
            " [   0    1    4    3    1    1    0 1008    2    7]\n",
            " [   3    3   13    4    2    3    4    4  960    4]\n",
            " [   2    0    0    2    9    2    0    3    1  984]]\n",
            "0.9846\n"
          ]
        }
      ]
    },
    {
      "cell_type": "code",
      "metadata": {
        "id": "tK3DWgfVS_Un",
        "colab": {
          "base_uri": "https://localhost:8080/",
          "height": 297
        },
        "outputId": "693f60df-020f-4728-be25-41ea622ad9a2"
      },
      "source": [
        "plt.plot(results.history['accuracy'], label='accuracy')\n",
        "plt.plot(results.history['val_accuracy'], label = 'val_accuracy')\n",
        "plt.xlabel('Epoch')\n",
        "plt.ylabel('Accuracy')\n",
        "#plt.ylim([0.5, 1])\n",
        "plt.legend(loc='lower right')"
      ],
      "execution_count": null,
      "outputs": [
        {
          "output_type": "execute_result",
          "data": {
            "text/plain": [
              "<matplotlib.legend.Legend at 0x7f2c9921b5d0>"
            ]
          },
          "metadata": {},
          "execution_count": 15
        },
        {
          "output_type": "display_data",
          "data": {
            "text/plain": [
              "<Figure size 432x288 with 1 Axes>"
            ],
            "image/png": "[encoded data removed]"
          },
          "metadata": {
            "needs_background": "light"
          }
        }
      ]
    }
  ]
}